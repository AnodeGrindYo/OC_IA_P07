{
 "cells": [
  {
   "cell_type": "markdown",
   "id": "72023b89",
   "metadata": {},
   "source": [
    "# Transfer Learning avec Bert"
   ]
  },
  {
   "cell_type": "markdown",
   "id": "02f9d8b1",
   "metadata": {},
   "source": [
    "## Librairies"
   ]
  },
  {
   "cell_type": "code",
   "execution_count": 69,
   "id": "642a0201",
   "metadata": {},
   "outputs": [
    {
     "name": "stdout",
     "output_type": "stream",
     "text": [
      "Requirement already satisfied: tensorflow in c:\\users\\utilisateur\\anaconda3\\envs\\oc_p07\\lib\\site-packages (2.9.1)\n",
      "Requirement already satisfied: gast<=0.4.0,>=0.2.1 in c:\\users\\utilisateur\\anaconda3\\envs\\oc_p07\\lib\\site-packages (from tensorflow) (0.4.0)\n",
      "Requirement already satisfied: keras<2.10.0,>=2.9.0rc0 in c:\\users\\utilisateur\\anaconda3\\envs\\oc_p07\\lib\\site-packages (from tensorflow) (2.9.0)\n",
      "Requirement already satisfied: absl-py>=1.0.0 in c:\\users\\utilisateur\\anaconda3\\envs\\oc_p07\\lib\\site-packages (from tensorflow) (1.1.0)\n",
      "Requirement already satisfied: google-pasta>=0.1.1 in c:\\users\\utilisateur\\anaconda3\\envs\\oc_p07\\lib\\site-packages (from tensorflow) (0.2.0)\n",
      "Requirement already satisfied: setuptools in c:\\users\\utilisateur\\appdata\\roaming\\python\\python39\\site-packages (from tensorflow) (59.5.0)\n",
      "Requirement already satisfied: termcolor>=1.1.0 in c:\\users\\utilisateur\\anaconda3\\envs\\oc_p07\\lib\\site-packages (from tensorflow) (1.1.0)\n",
      "Requirement already satisfied: flatbuffers<2,>=1.12 in c:\\users\\utilisateur\\anaconda3\\envs\\oc_p07\\lib\\site-packages (from tensorflow) (1.12)\n",
      "Requirement already satisfied: opt-einsum>=2.3.2 in c:\\users\\utilisateur\\anaconda3\\envs\\oc_p07\\lib\\site-packages (from tensorflow) (3.3.0)\n",
      "Requirement already satisfied: typing-extensions>=3.6.6 in c:\\users\\utilisateur\\anaconda3\\envs\\oc_p07\\lib\\site-packages (from tensorflow) (4.1.1)\n",
      "Requirement already satisfied: numpy>=1.20 in c:\\users\\utilisateur\\anaconda3\\envs\\oc_p07\\lib\\site-packages (from tensorflow) (1.22.3)\n",
      "Requirement already satisfied: wrapt>=1.11.0 in c:\\users\\utilisateur\\anaconda3\\envs\\oc_p07\\lib\\site-packages (from tensorflow) (1.13.3)\n",
      "Requirement already satisfied: tensorflow-estimator<2.10.0,>=2.9.0rc0 in c:\\users\\utilisateur\\anaconda3\\envs\\oc_p07\\lib\\site-packages (from tensorflow) (2.9.0)\n",
      "Requirement already satisfied: grpcio<2.0,>=1.24.3 in c:\\users\\utilisateur\\anaconda3\\envs\\oc_p07\\lib\\site-packages (from tensorflow) (1.42.0)\n",
      "Requirement already satisfied: protobuf<3.20,>=3.9.2 in c:\\users\\utilisateur\\anaconda3\\envs\\oc_p07\\lib\\site-packages (from tensorflow) (3.14.0)\n",
      "Requirement already satisfied: h5py>=2.9.0 in c:\\users\\utilisateur\\anaconda3\\envs\\oc_p07\\lib\\site-packages (from tensorflow) (3.6.0)\n",
      "Requirement already satisfied: tensorboard<2.10,>=2.9 in c:\\users\\utilisateur\\anaconda3\\envs\\oc_p07\\lib\\site-packages (from tensorflow) (2.9.1)\n",
      "Requirement already satisfied: keras-preprocessing>=1.1.1 in c:\\users\\utilisateur\\anaconda3\\envs\\oc_p07\\lib\\site-packages (from tensorflow) (1.1.2)\n",
      "Requirement already satisfied: packaging in c:\\users\\utilisateur\\appdata\\roaming\\python\\python39\\site-packages (from tensorflow) (21.3)\n",
      "Requirement already satisfied: six>=1.12.0 in c:\\users\\utilisateur\\appdata\\roaming\\python\\python39\\site-packages (from tensorflow) (1.16.0)\n",
      "Requirement already satisfied: tensorflow-io-gcs-filesystem>=0.23.1 in c:\\users\\utilisateur\\anaconda3\\envs\\oc_p07\\lib\\site-packages (from tensorflow) (0.26.0)\n",
      "Requirement already satisfied: astunparse>=1.6.0 in c:\\users\\utilisateur\\anaconda3\\envs\\oc_p07\\lib\\site-packages (from tensorflow) (1.6.3)\n",
      "Requirement already satisfied: libclang>=13.0.0 in c:\\users\\utilisateur\\anaconda3\\envs\\oc_p07\\lib\\site-packages (from tensorflow) (14.0.1)\n",
      "Requirement already satisfied: wheel<1.0,>=0.23.0 in c:\\users\\utilisateur\\anaconda3\\envs\\oc_p07\\lib\\site-packages (from astunparse>=1.6.0->tensorflow) (0.35.1)\n",
      "Requirement already satisfied: tensorboard-data-server<0.7.0,>=0.6.0 in c:\\users\\utilisateur\\anaconda3\\envs\\oc_p07\\lib\\site-packages (from tensorboard<2.10,>=2.9->tensorflow) (0.6.0)\n",
      "Requirement already satisfied: requests<3,>=2.21.0 in c:\\users\\utilisateur\\anaconda3\\envs\\oc_p07\\lib\\site-packages (from tensorboard<2.10,>=2.9->tensorflow) (2.27.1)\n",
      "Requirement already satisfied: tensorboard-plugin-wit>=1.6.0 in c:\\users\\utilisateur\\anaconda3\\envs\\oc_p07\\lib\\site-packages (from tensorboard<2.10,>=2.9->tensorflow) (1.6.0)\n",
      "Requirement already satisfied: markdown>=2.6.8 in c:\\users\\utilisateur\\anaconda3\\envs\\oc_p07\\lib\\site-packages (from tensorboard<2.10,>=2.9->tensorflow) (3.3.4)\n",
      "Requirement already satisfied: werkzeug>=1.0.1 in c:\\users\\utilisateur\\anaconda3\\envs\\oc_p07\\lib\\site-packages (from tensorboard<2.10,>=2.9->tensorflow) (2.0.3)\n",
      "Requirement already satisfied: google-auth-oauthlib<0.5,>=0.4.1 in c:\\users\\utilisateur\\anaconda3\\envs\\oc_p07\\lib\\site-packages (from tensorboard<2.10,>=2.9->tensorflow) (0.4.1)\n",
      "Requirement already satisfied: google-auth<3,>=1.6.3 in c:\\users\\utilisateur\\anaconda3\\envs\\oc_p07\\lib\\site-packages (from tensorboard<2.10,>=2.9->tensorflow) (1.35.0)\n",
      "Requirement already satisfied: pyasn1-modules>=0.2.1 in c:\\users\\utilisateur\\anaconda3\\envs\\oc_p07\\lib\\site-packages (from google-auth<3,>=1.6.3->tensorboard<2.10,>=2.9->tensorflow) (0.2.8)\n",
      "Requirement already satisfied: cachetools<5.0,>=2.0.0 in c:\\users\\utilisateur\\anaconda3\\envs\\oc_p07\\lib\\site-packages (from google-auth<3,>=1.6.3->tensorboard<2.10,>=2.9->tensorflow) (4.2.2)\n",
      "Requirement already satisfied: rsa<5,>=3.1.4 in c:\\users\\utilisateur\\anaconda3\\envs\\oc_p07\\lib\\site-packages (from google-auth<3,>=1.6.3->tensorboard<2.10,>=2.9->tensorflow) (4.7.2)\n",
      "Requirement already satisfied: requests-oauthlib>=0.7.0 in c:\\users\\utilisateur\\anaconda3\\envs\\oc_p07\\lib\\site-packages (from google-auth-oauthlib<0.5,>=0.4.1->tensorboard<2.10,>=2.9->tensorflow) (1.3.0)\n",
      "Requirement already satisfied: pyasn1<0.5.0,>=0.4.6 in c:\\users\\utilisateur\\anaconda3\\envs\\oc_p07\\lib\\site-packages (from pyasn1-modules>=0.2.1->google-auth<3,>=1.6.3->tensorboard<2.10,>=2.9->tensorflow) (0.4.8)\n",
      "Requirement already satisfied: urllib3<1.27,>=1.21.1 in c:\\users\\utilisateur\\anaconda3\\envs\\oc_p07\\lib\\site-packages (from requests<3,>=2.21.0->tensorboard<2.10,>=2.9->tensorflow) (1.26.9)\n",
      "Requirement already satisfied: certifi>=2017.4.17 in c:\\users\\utilisateur\\anaconda3\\envs\\oc_p07\\lib\\site-packages (from requests<3,>=2.21.0->tensorboard<2.10,>=2.9->tensorflow) (2022.5.18.1)\n",
      "Requirement already satisfied: charset-normalizer~=2.0.0 in c:\\users\\utilisateur\\anaconda3\\envs\\oc_p07\\lib\\site-packages (from requests<3,>=2.21.0->tensorboard<2.10,>=2.9->tensorflow) (2.0.4)\n",
      "Requirement already satisfied: idna<4,>=2.5 in c:\\users\\utilisateur\\appdata\\roaming\\python\\python39\\site-packages (from requests<3,>=2.21.0->tensorboard<2.10,>=2.9->tensorflow) (3.3)\n",
      "Requirement already satisfied: oauthlib>=3.0.0 in c:\\users\\utilisateur\\anaconda3\\envs\\oc_p07\\lib\\site-packages (from requests-oauthlib>=0.7.0->google-auth-oauthlib<0.5,>=0.4.1->tensorboard<2.10,>=2.9->tensorflow) (3.2.0)\n",
      "Requirement already satisfied: pyparsing!=3.0.5,>=2.0.2 in c:\\users\\utilisateur\\appdata\\roaming\\python\\python39\\site-packages (from packaging->tensorflow) (3.0.6)\n"
     ]
    }
   ],
   "source": [
    "!pip install tensorflow"
   ]
  },
  {
   "cell_type": "code",
   "execution_count": 70,
   "id": "e276e3f0",
   "metadata": {},
   "outputs": [
    {
     "name": "stdout",
     "output_type": "stream",
     "text": [
      "Requirement already satisfied: transformers in c:\\users\\utilisateur\\anaconda3\\envs\\oc_p07\\lib\\site-packages (4.19.2)\n",
      "Requirement already satisfied: numpy>=1.17 in c:\\users\\utilisateur\\anaconda3\\envs\\oc_p07\\lib\\site-packages (from transformers) (1.22.3)\n",
      "Requirement already satisfied: regex!=2019.12.17 in c:\\users\\utilisateur\\anaconda3\\envs\\oc_p07\\lib\\site-packages (from transformers) (2022.3.15)\n",
      "Requirement already satisfied: huggingface-hub<1.0,>=0.1.0 in c:\\users\\utilisateur\\anaconda3\\envs\\oc_p07\\lib\\site-packages (from transformers) (0.2.1)\n",
      "Requirement already satisfied: pyyaml>=5.1 in c:\\users\\utilisateur\\anaconda3\\envs\\oc_p07\\lib\\site-packages (from transformers) (6.0)\n",
      "Requirement already satisfied: requests in c:\\users\\utilisateur\\anaconda3\\envs\\oc_p07\\lib\\site-packages (from transformers) (2.27.1)\n",
      "Requirement already satisfied: packaging>=20.0 in c:\\users\\utilisateur\\appdata\\roaming\\python\\python39\\site-packages (from transformers) (21.3)\n",
      "Requirement already satisfied: filelock in c:\\users\\utilisateur\\anaconda3\\envs\\oc_p07\\lib\\site-packages (from transformers) (3.6.0)\n",
      "Requirement already satisfied: tqdm>=4.27 in c:\\users\\utilisateur\\anaconda3\\envs\\oc_p07\\lib\\site-packages (from transformers) (4.64.0)\n",
      "Requirement already satisfied: tokenizers!=0.11.3,<0.13,>=0.11.1 in c:\\users\\utilisateur\\anaconda3\\envs\\oc_p07\\lib\\site-packages (from transformers) (0.12.1)\n",
      "Requirement already satisfied: typing-extensions>=3.7.4.3 in c:\\users\\utilisateur\\anaconda3\\envs\\oc_p07\\lib\\site-packages (from huggingface-hub<1.0,>=0.1.0->transformers) (4.1.1)\n",
      "Requirement already satisfied: pyparsing!=3.0.5,>=2.0.2 in c:\\users\\utilisateur\\appdata\\roaming\\python\\python39\\site-packages (from packaging>=20.0->transformers) (3.0.6)\n",
      "Requirement already satisfied: colorama in c:\\users\\utilisateur\\appdata\\roaming\\python\\python39\\site-packages (from tqdm>=4.27->transformers) (0.4.4)\n",
      "Requirement already satisfied: charset-normalizer~=2.0.0 in c:\\users\\utilisateur\\anaconda3\\envs\\oc_p07\\lib\\site-packages (from requests->transformers) (2.0.4)\n",
      "Requirement already satisfied: certifi>=2017.4.17 in c:\\users\\utilisateur\\anaconda3\\envs\\oc_p07\\lib\\site-packages (from requests->transformers) (2022.5.18.1)\n",
      "Requirement already satisfied: idna<4,>=2.5 in c:\\users\\utilisateur\\appdata\\roaming\\python\\python39\\site-packages (from requests->transformers) (3.3)\n",
      "Requirement already satisfied: urllib3<1.27,>=1.21.1 in c:\\users\\utilisateur\\anaconda3\\envs\\oc_p07\\lib\\site-packages (from requests->transformers) (1.26.9)\n"
     ]
    }
   ],
   "source": [
    "!pip install transformers"
   ]
  },
  {
   "cell_type": "code",
   "execution_count": 48,
   "id": "4edeb28e",
   "metadata": {},
   "outputs": [],
   "source": [
    "import pickle\n",
    "import warnings\n",
    "import pandas as pd\n",
    "import numpy as np\n",
    "import matplotlib as mpl\n",
    "import matplotlib.pyplot as plt\n",
    "import seaborn as sns\n",
    "import torch\n",
    "from transformers import BertTokenizer, BertModel\n",
    "from transformers import TFBertModel\n",
    "from transformers import TFBertForSequenceClassification\n",
    "import tensorflow as tf\n",
    "from sklearn.metrics import accuracy_score, f1_score\n",
    "from sklearn.metrics import classification_report, confusion_matrix\n",
    "import keras"
   ]
  },
  {
   "cell_type": "markdown",
   "id": "706f5acd",
   "metadata": {},
   "source": [
    "## Settings"
   ]
  },
  {
   "cell_type": "code",
   "execution_count": 2,
   "id": "c2c9ab29",
   "metadata": {},
   "outputs": [],
   "source": [
    "warnings.filterwarnings('ignore')\n",
    "plt.style.use('dark_background')\n",
    "\n",
    "sav_path = \"./sav/\""
   ]
  },
  {
   "cell_type": "markdown",
   "id": "158c88d4",
   "metadata": {},
   "source": [
    "## Fonctions usuelles"
   ]
  },
  {
   "cell_type": "code",
   "execution_count": 3,
   "id": "664b8192",
   "metadata": {},
   "outputs": [],
   "source": [
    "def save_to_file(sav_path, filename, var):\n",
    "    path_to_file = sav_path + filename\n",
    "    pickle.dump(var, open(path_to_file, \"wb\"))\n",
    "    return\n",
    "\n",
    "def plot_metrics(model_history):\n",
    "    plt.figure()\n",
    "    plt.plot(model_history.history['accuracy'])\n",
    "    plt.plot(model_history.history['val_accuracy'])\n",
    "    plt.legend(['Train', 'Validation'])\n",
    "    plt.title(\"Accuracy en fonction du nombre d'epochs\")\n",
    "    plt.show()\n",
    "    \n",
    "    plt.figure()\n",
    "    plt.plot(model_history.history['loss'])\n",
    "    plt.plot(model_history.history['val_loss'])\n",
    "    plt.legend(['Train', 'Validation'])\n",
    "    plt.title(\"Loss en fonction du nombre d'epochs\")\n",
    "    plt.show()"
   ]
  },
  {
   "cell_type": "markdown",
   "id": "d85cfc20",
   "metadata": {},
   "source": [
    "## Importation des données"
   ]
  },
  {
   "cell_type": "code",
   "execution_count": 4,
   "id": "1e04541d",
   "metadata": {},
   "outputs": [],
   "source": [
    "X = pickle.load(open(sav_path+\"X.sav\", \"rb\"))\n",
    "y = pickle.load(open(sav_path+\"y.sav\", \"rb\"))"
   ]
  },
  {
   "cell_type": "code",
   "execution_count": 5,
   "id": "e4ab9aca",
   "metadata": {},
   "outputs": [],
   "source": [
    "for dataset in X:\n",
    "    ls_empty = np.where(X[dataset] == \"\")\n",
    "    X[dataset] = np.delete(X[dataset], ls_empty)\n",
    "    y[dataset] = np.delete(y[dataset], ls_empty)"
   ]
  },
  {
   "cell_type": "markdown",
   "id": "3d90bd3c",
   "metadata": {},
   "source": [
    "## BERT"
   ]
  },
  {
   "cell_type": "markdown",
   "id": "70f39171",
   "metadata": {},
   "source": [
    "### Tokenisation"
   ]
  },
  {
   "cell_type": "code",
   "execution_count": 7,
   "id": "45921cb2",
   "metadata": {
    "scrolled": true
   },
   "outputs": [
    {
     "name": "stderr",
     "output_type": "stream",
     "text": [
      "All model checkpoint layers were used when initializing TFBertForSequenceClassification.\n",
      "\n",
      "Some layers of TFBertForSequenceClassification were not initialized from the model checkpoint at bert-base-uncased and are newly initialized: ['classifier']\n",
      "You should probably TRAIN this model on a down-stream task to be able to use it for predictions and inference.\n"
     ]
    }
   ],
   "source": [
    "num_classes = 2\n",
    "bert_tokenizer = BertTokenizer.from_pretrained('bert-base-uncased')\n",
    "bert_model = TFBertForSequenceClassification.from_pretrained('bert-base-uncased',num_labels=num_classes)"
   ]
  },
  {
   "cell_type": "code",
   "execution_count": 78,
   "id": "3ca1825f",
   "metadata": {},
   "outputs": [
    {
     "data": {
      "text/plain": [
       "('./sav/bert_tok/tokenizer_config.json',\n",
       " './sav/bert_tok/special_tokens_map.json',\n",
       " './sav/bert_tok/vocab.txt',\n",
       " './sav/bert_tok/added_tokens.json')"
      ]
     },
     "execution_count": 78,
     "metadata": {},
     "output_type": "execute_result"
    }
   ],
   "source": [
    "bert_tokenizer.save_pretrained(sav_path+\"bert_tok/\")"
   ]
  },
  {
   "cell_type": "code",
   "execution_count": 79,
   "id": "d4a45c9e",
   "metadata": {},
   "outputs": [],
   "source": [
    "MAX_LEN = 128\n",
    "def tokenize(tweets):\n",
    "    input_ids=[]\n",
    "    attention_masks=[]\n",
    "    for tweet in tweets:\n",
    "        bert_inp=bert_tokenizer.encode_plus(\n",
    "            tweet,\n",
    "            add_special_tokens=True,\n",
    "            max_length=MAX_LEN,\n",
    "            pad_to_max_length=True,\n",
    "            return_attention_mask=True\n",
    "        )\n",
    "        input_ids.append(bert_inp[\"input_ids\"])\n",
    "        attention_masks.append(bert_inp[\"attention_mask\"])\n",
    "    inputs_ids = np.array(input_ids)\n",
    "    attention_masks = np.array(attention_masks)\n",
    "    return input_ids, attention_masks"
   ]
  },
  {
   "cell_type": "code",
   "execution_count": 80,
   "id": "efdf8033",
   "metadata": {
    "scrolled": true
   },
   "outputs": [
    {
     "name": "stderr",
     "output_type": "stream",
     "text": [
      "Truncation was not explicitly activated but `max_length` is provided a specific value, please use `truncation=True` to explicitly truncate examples to max length. Defaulting to 'longest_first' truncation strategy. If you encode pairs of sequences (GLUE-style) with the tokenizer you can select this strategy more precisely by providing a specific strategy to `truncation`.\n"
     ]
    },
    {
     "name": "stdout",
     "output_type": "stream",
     "text": [
      "Tokenisation de data...\n",
      "Tokenisation de cmp...\n",
      "Tokenisation de val...\n",
      "Tokenisation de train...\n",
      "Tokenisation de train_smpl...\n",
      "Tokenisation de test...\n"
     ]
    }
   ],
   "source": [
    "input_ids = {}\n",
    "attention_masks = {}\n",
    "\n",
    "for dataset in X:\n",
    "    print(\"Tokenisation de {}...\".format(dataset))\n",
    "    input_ids[dataset], attention_masks[dataset] = tokenize(\n",
    "        X[dataset]\n",
    "    )"
   ]
  },
  {
   "cell_type": "code",
   "execution_count": 81,
   "id": "44229bdb",
   "metadata": {},
   "outputs": [],
   "source": [
    "save_to_file(sav_path, \"bert_input_ids.sav\", input_ids)\n",
    "save_to_file(sav_path, \"bert_attention_masks.sav\", attention_masks)"
   ]
  },
  {
   "cell_type": "code",
   "execution_count": 8,
   "id": "1b65b9aa",
   "metadata": {},
   "outputs": [],
   "source": [
    "input_ids = pickle.load(open(sav_path+\"bert_input_ids.sav\", \"rb\"))\n",
    "attention_masks = pickle.load(open(sav_path+\"bert_attention_masks.sav\", \"rb\"))"
   ]
  },
  {
   "cell_type": "markdown",
   "id": "49061fe6",
   "metadata": {},
   "source": [
    "### Création du modèle"
   ]
  },
  {
   "cell_type": "code",
   "execution_count": 9,
   "id": "e788ba1d",
   "metadata": {},
   "outputs": [
    {
     "name": "stdout",
     "output_type": "stream",
     "text": [
      "Model: \"tf_bert_for_sequence_classification\"\n",
      "_________________________________________________________________\n",
      " Layer (type)                Output Shape              Param #   \n",
      "=================================================================\n",
      " bert (TFBertMainLayer)      multiple                  109482240 \n",
      "                                                                 \n",
      " dropout_37 (Dropout)        multiple                  0         \n",
      "                                                                 \n",
      " classifier (Dense)          multiple                  1538      \n",
      "                                                                 \n",
      "=================================================================\n",
      "Total params: 109,483,778\n",
      "Trainable params: 109,483,778\n",
      "Non-trainable params: 0\n",
      "_________________________________________________________________\n",
      "\n",
      "Bert Model None\n"
     ]
    }
   ],
   "source": [
    "log_dir=\"tensorboard_data_3/tbert\"\n",
    "model_save_path=sav_path+\"chckpnt/\"\n",
    "\n",
    "callbacks = [\n",
    "    tf.keras.callbacks.ModelCheckpoint(\n",
    "        filepath=model_save_path,\n",
    "        save_weights_only=True,\n",
    "        monitor='val_loss',\n",
    "        mode='min',\n",
    "        save_best_only=True\n",
    "    ),\n",
    "    keras.callbacks.TensorBoard(log_dir=log_dir)]\n",
    "\n",
    "print('\\nBert Model',bert_model.summary())\n",
    "\n",
    "loss = tf.keras.losses.SparseCategoricalCrossentropy(from_logits=True)\n",
    "metric = tf.keras.metrics.SparseCategoricalAccuracy('accuracy')\n",
    "optimizer = tf.keras.optimizers.Adam(learning_rate=2e-5,epsilon=1e-08)\n",
    "\n",
    "bert_model.compile(\n",
    "    loss=loss,\n",
    "    optimizer=optimizer,\n",
    "    metrics=[metric]\n",
    ")"
   ]
  },
  {
   "cell_type": "markdown",
   "id": "a05cd97a",
   "metadata": {},
   "source": [
    "### Entraînement"
   ]
  },
  {
   "cell_type": "code",
   "execution_count": 10,
   "id": "1024701c",
   "metadata": {
    "scrolled": true
   },
   "outputs": [
    {
     "name": "stdout",
     "output_type": "stream",
     "text": [
      "Epoch 1/4\n",
      "250/250 [==============================] - 5424s 22s/step - loss: 0.5059 - accuracy: 0.7441 - val_loss: 0.4082 - val_accuracy: 0.8185\n",
      "Epoch 2/4\n",
      "250/250 [==============================] - 5247s 21s/step - loss: 0.3190 - accuracy: 0.8704 - val_loss: 0.4429 - val_accuracy: 0.8143\n",
      "Epoch 3/4\n",
      "250/250 [==============================] - 5257s 21s/step - loss: 0.1683 - accuracy: 0.9351 - val_loss: 0.5373 - val_accuracy: 0.8013\n",
      "Epoch 4/4\n",
      "250/250 [==============================] - 5255s 21s/step - loss: 0.0943 - accuracy: 0.9691 - val_loss: 0.6071 - val_accuracy: 0.8125\n"
     ]
    }
   ],
   "source": [
    "train_inp = np.array(input_ids[\"train_smpl\"])\n",
    "train_mask= np.array(attention_masks[\"train_smpl\"])\n",
    "train_labels = np.array(y[\"train_smpl\"])\n",
    "val_inp = np.array(input_ids[\"val\"])\n",
    "val_mask= np.array(attention_masks[\"val\"])\n",
    "val_labels = np.array(y[\"val\"])\n",
    "batch_size=32\n",
    "epochs=4\n",
    "\n",
    "history = bert_model.fit(\n",
    "    [\n",
    "        train_inp,\n",
    "        train_mask\n",
    "    ],\n",
    "    train_labels,\n",
    "    batch_size=batch_size,\n",
    "    epochs=epochs,\n",
    "    validation_data=(\n",
    "        [\n",
    "            val_inp,\n",
    "            val_mask\n",
    "        ],\n",
    "        val_labels\n",
    "    ),\n",
    "    callbacks=callbacks\n",
    ")"
   ]
  },
  {
   "cell_type": "code",
   "execution_count": 11,
   "id": "6fe6c862",
   "metadata": {},
   "outputs": [
    {
     "name": "stderr",
     "output_type": "stream",
     "text": [
      "WARNING:absl:Found untraced functions such as embeddings_layer_call_fn, embeddings_layer_call_and_return_conditional_losses, encoder_layer_call_fn, encoder_layer_call_and_return_conditional_losses, pooler_layer_call_fn while saving (showing 5 of 420). These functions will not be directly callable after loading.\n"
     ]
    },
    {
     "name": "stdout",
     "output_type": "stream",
     "text": [
      "INFO:tensorflow:Assets written to: ./sav/BERT_model_3\\assets\n"
     ]
    },
    {
     "name": "stderr",
     "output_type": "stream",
     "text": [
      "INFO:tensorflow:Assets written to: ./sav/BERT_model_3\\assets\n"
     ]
    }
   ],
   "source": [
    "bert_model.save(sav_path+\"BERT_model_3\")"
   ]
  },
  {
   "cell_type": "code",
   "execution_count": 28,
   "id": "7385a746",
   "metadata": {},
   "outputs": [],
   "source": [
    "bert_model.save_weights(sav_path+'BERT_WEIGHTS/bert_model_weights', save_format='tf')"
   ]
  },
  {
   "cell_type": "code",
   "execution_count": null,
   "id": "3066712f",
   "metadata": {},
   "outputs": [],
   "source": [
    "with open(sav_path+\"BERT_history.sav\", \"wb\") as file_pi:\n",
    "    pickle.dump(history.history, file_pi)"
   ]
  },
  {
   "cell_type": "markdown",
   "id": "254a04bd",
   "metadata": {},
   "source": [
    "### Evaluation"
   ]
  },
  {
   "cell_type": "code",
   "execution_count": 12,
   "id": "9c809525",
   "metadata": {},
   "outputs": [
    {
     "name": "stdout",
     "output_type": "stream",
     "text": [
      "1560/1560 [==============================] - 3442s 2s/step\n"
     ]
    }
   ],
   "source": [
    "result_bert = bert_model.predict(\n",
    "    [\n",
    "        val_inp,\n",
    "        val_mask\n",
    "    ]\n",
    ")"
   ]
  },
  {
   "cell_type": "code",
   "execution_count": 13,
   "id": "44fd68c1",
   "metadata": {},
   "outputs": [],
   "source": [
    "y_pred_bert = np.argmax(result_bert[\"logits\"], axis=1)"
   ]
  },
  {
   "cell_type": "code",
   "execution_count": 42,
   "id": "27848e48",
   "metadata": {},
   "outputs": [],
   "source": [
    "def conf_matrix(y, y_pred, title):\n",
    "    fig, ax =plt.subplots(figsize=(5,5))\n",
    "    labels=[0, 1]\n",
    "    ax=sns.heatmap(\n",
    "        confusion_matrix(y, y_pred), \n",
    "        annot=True, \n",
    "        cmap=\"Blues\", \n",
    "        fmt='g', \n",
    "        cbar=False, \n",
    "        annot_kws={\"size\":25}\n",
    "    )\n",
    "    plt.title(title, fontsize=20)\n",
    "    ax.set_ylabel('Test', fontsize=20)\n",
    "    ax.set_xlabel('Predicted', fontsize=20)\n",
    "    plt.show()"
   ]
  },
  {
   "cell_type": "code",
   "execution_count": 15,
   "id": "495f9936",
   "metadata": {},
   "outputs": [
    {
     "data": {
      "image/png": "[encoded data removed]",
      "text/plain": [
       "<Figure size 360x360 with 1 Axes>"
      ]
     },
     "metadata": {},
     "output_type": "display_data"
    }
   ],
   "source": [
    "conf_matrix(y[\"val\"], y_pred_bert, \"BERT : Matrice de confusion\")"
   ]
  },
  {
   "cell_type": "markdown",
   "id": "8e8472ac",
   "metadata": {},
   "source": [
    "#### Accuracy et Loss"
   ]
  },
  {
   "cell_type": "code",
   "execution_count": 49,
   "id": "1b7f9574",
   "metadata": {},
   "outputs": [
    {
     "name": "stdout",
     "output_type": "stream",
     "text": [
      "accuracy :  0.8124649298597194\n"
     ]
    }
   ],
   "source": [
    "accuracy_bert = accuracy_score(y[\"val\"], y_pred_bert)\n",
    "print(\"accuracy : \", accuracy_bert)"
   ]
  },
  {
   "cell_type": "code",
   "execution_count": 16,
   "id": "a94c5831",
   "metadata": {},
   "outputs": [
    {
     "name": "stdout",
     "output_type": "stream",
     "text": [
      "              precision    recall  f1-score   support\n",
      "\n",
      "           0       0.79      0.85      0.82     24946\n",
      "           1       0.84      0.77      0.80     24954\n",
      "\n",
      "    accuracy                           0.81     49900\n",
      "   macro avg       0.81      0.81      0.81     49900\n",
      "weighted avg       0.81      0.81      0.81     49900\n",
      "\n"
     ]
    }
   ],
   "source": [
    "print(classification_report(y[\"val\"], y_pred_bert))"
   ]
  },
  {
   "cell_type": "code",
   "execution_count": 46,
   "id": "bd742245",
   "metadata": {},
   "outputs": [
    {
     "name": "stdout",
     "output_type": "stream",
     "text": [
      "50/50 - 134s - loss: 0.6294 - accuracy: 0.7999 - 134s/epoch - 3s/step\n"
     ]
    },
    {
     "data": {
      "text/plain": [
       "[0.6293730735778809, 0.7998745441436768]"
      ]
     },
     "execution_count": 46,
     "metadata": {},
     "output_type": "execute_result"
    }
   ],
   "source": [
    "bert_model.evaluate(\n",
    "    [\n",
    "        np.array(input_ids[\"cmp\"]),\n",
    "        np.array(attention_masks[\"cmp\"])\n",
    "    ],\n",
    "    np.array(y[\"cmp\"]),\n",
    "    verbose=2\n",
    ")"
   ]
  },
  {
   "cell_type": "code",
   "execution_count": 17,
   "id": "55836837",
   "metadata": {},
   "outputs": [],
   "source": [
    "def plot_metrics(model_history):\n",
    "    plt.figure()\n",
    "    plt.plot(model_history.history['accuracy'])\n",
    "    plt.plot(model_history.history['val_accuracy'])\n",
    "    plt.legend(['Train', 'Validation'])\n",
    "    plt.title(\"Accuracy en fonction du nombre d'epochs\")\n",
    "    plt.show()\n",
    "    \n",
    "    plt.figure()\n",
    "    plt.plot(model_history.history['loss'])\n",
    "    plt.plot(model_history.history['val_loss'])\n",
    "    plt.legend(['Train', 'Validation'])\n",
    "    plt.title(\"Loss en fonction du nombre d'epochs\")\n",
    "    plt.show()"
   ]
  },
  {
   "cell_type": "code",
   "execution_count": 18,
   "id": "b03620d4",
   "metadata": {},
   "outputs": [
    {
     "data": {
      "text/plain": [
       "{'loss': [0.5059288144111633,\n",
       "  0.3189660906791687,\n",
       "  0.16831812262535095,\n",
       "  0.09430529177188873],\n",
       " 'accuracy': [0.7440521121025085,\n",
       "  0.870398223400116,\n",
       "  0.9351364970207214,\n",
       "  0.9690708518028259],\n",
       " 'val_loss': [0.4082324802875519,\n",
       "  0.44289740920066833,\n",
       "  0.537297785282135,\n",
       "  0.6070894002914429],\n",
       " 'val_accuracy': [0.8185170292854309,\n",
       "  0.8143486976623535,\n",
       "  0.8012825846672058,\n",
       "  0.8124649524688721]}"
      ]
     },
     "execution_count": 18,
     "metadata": {},
     "output_type": "execute_result"
    }
   ],
   "source": [
    "history.history"
   ]
  },
  {
   "cell_type": "code",
   "execution_count": 86,
   "id": "b77d6c63",
   "metadata": {
    "scrolled": false
   },
   "outputs": [
    {
     "data": {
      "image/png": "[encoded data removed]",
      "text/plain": [
       "<Figure size 432x288 with 1 Axes>"
      ]
     },
     "metadata": {},
     "output_type": "display_data"
    },
    {
     "data": {
      "image/png": "[encoded data removed]",
      "text/plain": [
       "<Figure size 432x288 with 1 Axes>"
      ]
     },
     "metadata": {},
     "output_type": "display_data"
    }
   ],
   "source": [
    "plot_metrics(history)"
   ]
  },
  {
   "cell_type": "markdown",
   "id": "be8b62df",
   "metadata": {},
   "source": [
    "## Test du modèle sauvegardé"
   ]
  },
  {
   "cell_type": "code",
   "execution_count": 26,
   "id": "aed407fd",
   "metadata": {},
   "outputs": [],
   "source": [
    "def load_saved_model(checkpoint_path):\n",
    "    model = TFBertForSequenceClassification.from_pretrained(\n",
    "        'bert-base-uncased',\n",
    "        num_labels=2\n",
    "    )\n",
    "    loss = tf.keras.losses.SparseCategoricalCrossentropy(\n",
    "        from_logits=True\n",
    "    )\n",
    "    metric = tf.keras.metrics.SparseCategoricalAccuracy(\n",
    "        'accuracy'\n",
    "    )\n",
    "    optimizer = tf.keras.optimizers.Adam(\n",
    "        learning_rate=2e-5,\n",
    "        epsilon=1e-08\n",
    "    )\n",
    "    model.compile(\n",
    "        loss=loss,\n",
    "        optimizer=optimizer,\n",
    "        metrics=[metric]\n",
    "    )\n",
    "    model.load_weights(checkpoint_path)\n",
    "    return model"
   ]
  },
  {
   "cell_type": "code",
   "execution_count": 27,
   "id": "b4fedca9",
   "metadata": {},
   "outputs": [],
   "source": [
    "def tokenize_txt(txt, bert_tokenizer):\n",
    "    MAX_LEN = 128\n",
    "    input_ids=[]\n",
    "    attention_masks=[]\n",
    "    bert_inp=bert_tokenizer.encode_plus(\n",
    "        txt,\n",
    "        add_special_tokens=True,\n",
    "        max_length=MAX_LEN,\n",
    "        pad_to_max_length=True,\n",
    "        return_attention_mask=True,\n",
    "        truncation=True\n",
    "    )\n",
    "    input_ids.append(bert_inp[\"input_ids\"])\n",
    "    attention_masks.append(bert_inp[\"attention_mask\"])\n",
    "    inputs_ids = np.array(input_ids)\n",
    "    attention_masks = np.array(attention_masks)\n",
    "    return input_ids, attention_masks"
   ]
  },
  {
   "cell_type": "code",
   "execution_count": null,
   "id": "8c3097f0",
   "metadata": {},
   "outputs": [],
   "source": [
    "def predict_from_text(txt, tokenizer, model):\n",
    "    i, a = tokenize_txt(txt, tokenizer)\n",
    "    res = model.predict([i, a])\n",
    "    prediction = np.argmax(rest[\"logits\"], axis=1)\n",
    "    return prediction"
   ]
  },
  {
   "cell_type": "code",
   "execution_count": 40,
   "id": "c95493ff",
   "metadata": {},
   "outputs": [
    {
     "name": "stderr",
     "output_type": "stream",
     "text": [
      "All model checkpoint layers were used when initializing TFBertForSequenceClassification.\n",
      "\n",
      "Some layers of TFBertForSequenceClassification were not initialized from the model checkpoint at bert-base-uncased and are newly initialized: ['classifier']\n",
      "You should probably TRAIN this model on a down-stream task to be able to use it for predictions and inference.\n"
     ]
    }
   ],
   "source": [
    "loaded_model = load_saved_model(sav_path+'BERT_WEIGHTS/bert_model_weights')"
   ]
  },
  {
   "cell_type": "code",
   "execution_count": 41,
   "id": "f945dd65",
   "metadata": {},
   "outputs": [
    {
     "name": "stdout",
     "output_type": "stream",
     "text": [
      "1560/1560 [==============================] - 4138s 3s/step\n"
     ]
    }
   ],
   "source": [
    "# loaded_model.load_weights(sav_path+'BERT_WEIGHTS/bert_model_weights')\n",
    "result_loaded_model = loaded_model.predict(\n",
    "    [\n",
    "        val_inp,\n",
    "        val_mask\n",
    "    ]\n",
    ")"
   ]
  },
  {
   "cell_type": "code",
   "execution_count": 44,
   "id": "3cce06e9",
   "metadata": {},
   "outputs": [
    {
     "data": {
      "image/png": "[encoded data removed]",
      "text/plain": [
       "<Figure size 360x360 with 1 Axes>"
      ]
     },
     "metadata": {},
     "output_type": "display_data"
    }
   ],
   "source": [
    "y_pred_loaded_model = np.argmax(result_loaded_model[\"logits\"], axis=1)\n",
    "conf_matrix(y[\"val\"], y_pred_loaded_model, \"BERT : Matrice de confusion\")"
   ]
  },
  {
   "cell_type": "code",
   "execution_count": null,
   "id": "186178cc",
   "metadata": {},
   "outputs": [],
   "source": []
  }
 ],
 "metadata": {
  "kernelspec": {
   "display_name": "oc_p07",
   "language": "python",
   "name": "oc_p07"
  },
  "language_info": {
   "codemirror_mode": {
    "name": "ipython",
    "version": 3
   },
   "file_extension": ".py",
   "mimetype": "text/x-python",
   "name": "python",
   "nbconvert_exporter": "python",
   "pygments_lexer": "ipython3",
   "version": "3.9.12"
  }
 },
 "nbformat": 4,
 "nbformat_minor": 5
}
