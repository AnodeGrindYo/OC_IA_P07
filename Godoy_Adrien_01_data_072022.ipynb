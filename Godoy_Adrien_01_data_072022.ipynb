{
 "cells": [
  {
   "cell_type": "markdown",
   "id": "4e5a8551",
   "metadata": {},
   "source": [
    "# Chargement et preprocessing des données"
   ]
  },
  {
   "cell_type": "markdown",
   "id": "3fd9cf6f",
   "metadata": {},
   "source": [
    "## Librairies"
   ]
  },
  {
   "cell_type": "code",
   "execution_count": 1,
   "id": "0d66a676",
   "metadata": {},
   "outputs": [],
   "source": [
    "import pandas as pd\n",
    "import matplotlib as mpl\n",
    "import matplotlib.pyplot as plt\n",
    "import seaborn as sns\n",
    "import numpy as np\n",
    "import spacy\n",
    "import warnings\n",
    "import random as rndm\n",
    "from os.path import exists\n",
    "import pickle\n",
    "import json\n",
    "from sklearn.model_selection import train_test_split\n",
    "from IPython.core.display import HTML\n",
    "from nltk.corpus import stopwords\n",
    "import preprocessor as p # tweet-preprocessor https://github.com/s/preprocessor"
   ]
  },
  {
   "cell_type": "markdown",
   "id": "8c6c79f0",
   "metadata": {},
   "source": [
    "## Settings"
   ]
  },
  {
   "cell_type": "code",
   "execution_count": 2,
   "id": "619ef000",
   "metadata": {},
   "outputs": [],
   "source": [
    "warnings.filterwarnings('ignore')\n",
    "plt.style.use('dark_background')\n",
    "tln = spacy.load(\"en_core_web_sm\")\n",
    "seed = 1\n",
    "rndm.seed(seed)\n",
    "np.random.seed(seed)"
   ]
  },
  {
   "cell_type": "markdown",
   "id": "7767b2b4",
   "metadata": {},
   "source": [
    "## Constantes"
   ]
  },
  {
   "cell_type": "code",
   "execution_count": 3,
   "id": "126c0699",
   "metadata": {},
   "outputs": [],
   "source": [
    "sav_path = \"./sav/\""
   ]
  },
  {
   "cell_type": "markdown",
   "id": "5fbe8096",
   "metadata": {},
   "source": [
    "## Importation du dataset"
   ]
  },
  {
   "cell_type": "code",
   "execution_count": 4,
   "id": "cbde34dd",
   "metadata": {},
   "outputs": [],
   "source": [
    "data = pd.read_csv(\"./data/training.1600000.processed.noemoticon.csv\", header=None, encoding='ISO-8859-1')"
   ]
  },
  {
   "cell_type": "code",
   "execution_count": 5,
   "id": "423b1379",
   "metadata": {},
   "outputs": [
    {
     "data": {
      "text/html": [
       "<div>\n",
       "<style scoped>\n",
       "    .dataframe tbody tr th:only-of-type {\n",
       "        vertical-align: middle;\n",
       "    }\n",
       "\n",
       "    .dataframe tbody tr th {\n",
       "        vertical-align: top;\n",
       "    }\n",
       "\n",
       "    .dataframe thead th {\n",
       "        text-align: right;\n",
       "    }\n",
       "</style>\n",
       "<table border=\"1\" class=\"dataframe\">\n",
       "  <thead>\n",
       "    <tr style=\"text-align: right;\">\n",
       "      <th></th>\n",
       "      <th>0</th>\n",
       "      <th>1</th>\n",
       "      <th>2</th>\n",
       "      <th>3</th>\n",
       "      <th>4</th>\n",
       "      <th>5</th>\n",
       "    </tr>\n",
       "  </thead>\n",
       "  <tbody>\n",
       "    <tr>\n",
       "      <th>0</th>\n",
       "      <td>0</td>\n",
       "      <td>1467810369</td>\n",
       "      <td>Mon Apr 06 22:19:45 PDT 2009</td>\n",
       "      <td>NO_QUERY</td>\n",
       "      <td>_TheSpecialOne_</td>\n",
       "      <td>@switchfoot http://twitpic.com/2y1zl - Awww, t...</td>\n",
       "    </tr>\n",
       "    <tr>\n",
       "      <th>1</th>\n",
       "      <td>0</td>\n",
       "      <td>1467810672</td>\n",
       "      <td>Mon Apr 06 22:19:49 PDT 2009</td>\n",
       "      <td>NO_QUERY</td>\n",
       "      <td>scotthamilton</td>\n",
       "      <td>is upset that he can't update his Facebook by ...</td>\n",
       "    </tr>\n",
       "    <tr>\n",
       "      <th>2</th>\n",
       "      <td>0</td>\n",
       "      <td>1467810917</td>\n",
       "      <td>Mon Apr 06 22:19:53 PDT 2009</td>\n",
       "      <td>NO_QUERY</td>\n",
       "      <td>mattycus</td>\n",
       "      <td>@Kenichan I dived many times for the ball. Man...</td>\n",
       "    </tr>\n",
       "    <tr>\n",
       "      <th>3</th>\n",
       "      <td>0</td>\n",
       "      <td>1467811184</td>\n",
       "      <td>Mon Apr 06 22:19:57 PDT 2009</td>\n",
       "      <td>NO_QUERY</td>\n",
       "      <td>ElleCTF</td>\n",
       "      <td>my whole body feels itchy and like its on fire</td>\n",
       "    </tr>\n",
       "    <tr>\n",
       "      <th>4</th>\n",
       "      <td>0</td>\n",
       "      <td>1467811193</td>\n",
       "      <td>Mon Apr 06 22:19:57 PDT 2009</td>\n",
       "      <td>NO_QUERY</td>\n",
       "      <td>Karoli</td>\n",
       "      <td>@nationwideclass no, it's not behaving at all....</td>\n",
       "    </tr>\n",
       "  </tbody>\n",
       "</table>\n",
       "</div>"
      ],
      "text/plain": [
       "   0           1                             2         3                4  \\\n",
       "0  0  1467810369  Mon Apr 06 22:19:45 PDT 2009  NO_QUERY  _TheSpecialOne_   \n",
       "1  0  1467810672  Mon Apr 06 22:19:49 PDT 2009  NO_QUERY    scotthamilton   \n",
       "2  0  1467810917  Mon Apr 06 22:19:53 PDT 2009  NO_QUERY         mattycus   \n",
       "3  0  1467811184  Mon Apr 06 22:19:57 PDT 2009  NO_QUERY          ElleCTF   \n",
       "4  0  1467811193  Mon Apr 06 22:19:57 PDT 2009  NO_QUERY           Karoli   \n",
       "\n",
       "                                                   5  \n",
       "0  @switchfoot http://twitpic.com/2y1zl - Awww, t...  \n",
       "1  is upset that he can't update his Facebook by ...  \n",
       "2  @Kenichan I dived many times for the ball. Man...  \n",
       "3    my whole body feels itchy and like its on fire   \n",
       "4  @nationwideclass no, it's not behaving at all....  "
      ]
     },
     "execution_count": 5,
     "metadata": {},
     "output_type": "execute_result"
    }
   ],
   "source": [
    "data.head()"
   ]
  },
  {
   "cell_type": "markdown",
   "id": "a80d67b2",
   "metadata": {},
   "source": [
    "Nous allons renommer les colonnes pour nous simplifier la tâche"
   ]
  },
  {
   "cell_type": "code",
   "execution_count": 6,
   "id": "6594aa60",
   "metadata": {},
   "outputs": [
    {
     "data": {
      "text/html": [
       "<div>\n",
       "<style scoped>\n",
       "    .dataframe tbody tr th:only-of-type {\n",
       "        vertical-align: middle;\n",
       "    }\n",
       "\n",
       "    .dataframe tbody tr th {\n",
       "        vertical-align: top;\n",
       "    }\n",
       "\n",
       "    .dataframe thead th {\n",
       "        text-align: right;\n",
       "    }\n",
       "</style>\n",
       "<table border=\"1\" class=\"dataframe\">\n",
       "  <thead>\n",
       "    <tr style=\"text-align: right;\">\n",
       "      <th></th>\n",
       "      <th>target</th>\n",
       "      <th>ids</th>\n",
       "      <th>date</th>\n",
       "      <th>flag</th>\n",
       "      <th>user</th>\n",
       "      <th>text</th>\n",
       "    </tr>\n",
       "  </thead>\n",
       "  <tbody>\n",
       "    <tr>\n",
       "      <th>0</th>\n",
       "      <td>0</td>\n",
       "      <td>1467810369</td>\n",
       "      <td>Mon Apr 06 22:19:45 PDT 2009</td>\n",
       "      <td>NO_QUERY</td>\n",
       "      <td>_TheSpecialOne_</td>\n",
       "      <td>@switchfoot http://twitpic.com/2y1zl - Awww, t...</td>\n",
       "    </tr>\n",
       "    <tr>\n",
       "      <th>1</th>\n",
       "      <td>0</td>\n",
       "      <td>1467810672</td>\n",
       "      <td>Mon Apr 06 22:19:49 PDT 2009</td>\n",
       "      <td>NO_QUERY</td>\n",
       "      <td>scotthamilton</td>\n",
       "      <td>is upset that he can't update his Facebook by ...</td>\n",
       "    </tr>\n",
       "    <tr>\n",
       "      <th>2</th>\n",
       "      <td>0</td>\n",
       "      <td>1467810917</td>\n",
       "      <td>Mon Apr 06 22:19:53 PDT 2009</td>\n",
       "      <td>NO_QUERY</td>\n",
       "      <td>mattycus</td>\n",
       "      <td>@Kenichan I dived many times for the ball. Man...</td>\n",
       "    </tr>\n",
       "    <tr>\n",
       "      <th>3</th>\n",
       "      <td>0</td>\n",
       "      <td>1467811184</td>\n",
       "      <td>Mon Apr 06 22:19:57 PDT 2009</td>\n",
       "      <td>NO_QUERY</td>\n",
       "      <td>ElleCTF</td>\n",
       "      <td>my whole body feels itchy and like its on fire</td>\n",
       "    </tr>\n",
       "    <tr>\n",
       "      <th>4</th>\n",
       "      <td>0</td>\n",
       "      <td>1467811193</td>\n",
       "      <td>Mon Apr 06 22:19:57 PDT 2009</td>\n",
       "      <td>NO_QUERY</td>\n",
       "      <td>Karoli</td>\n",
       "      <td>@nationwideclass no, it's not behaving at all....</td>\n",
       "    </tr>\n",
       "  </tbody>\n",
       "</table>\n",
       "</div>"
      ],
      "text/plain": [
       "   target         ids                          date      flag  \\\n",
       "0       0  1467810369  Mon Apr 06 22:19:45 PDT 2009  NO_QUERY   \n",
       "1       0  1467810672  Mon Apr 06 22:19:49 PDT 2009  NO_QUERY   \n",
       "2       0  1467810917  Mon Apr 06 22:19:53 PDT 2009  NO_QUERY   \n",
       "3       0  1467811184  Mon Apr 06 22:19:57 PDT 2009  NO_QUERY   \n",
       "4       0  1467811193  Mon Apr 06 22:19:57 PDT 2009  NO_QUERY   \n",
       "\n",
       "              user                                               text  \n",
       "0  _TheSpecialOne_  @switchfoot http://twitpic.com/2y1zl - Awww, t...  \n",
       "1    scotthamilton  is upset that he can't update his Facebook by ...  \n",
       "2         mattycus  @Kenichan I dived many times for the ball. Man...  \n",
       "3          ElleCTF    my whole body feels itchy and like its on fire   \n",
       "4           Karoli  @nationwideclass no, it's not behaving at all....  "
      ]
     },
     "execution_count": 6,
     "metadata": {},
     "output_type": "execute_result"
    }
   ],
   "source": [
    "cols = [\n",
    "    \"target\",\n",
    "    \"ids\",\n",
    "    \"date\",\n",
    "    \"flag\",\n",
    "    \"user\",\n",
    "    \"text\"\n",
    "]\n",
    "data.columns = cols\n",
    "data.head()"
   ]
  },
  {
   "cell_type": "code",
   "execution_count": 25,
   "id": "623c5b46",
   "metadata": {},
   "outputs": [
    {
     "name": "stdout",
     "output_type": "stream",
     "text": [
      "Notre dataset contient 1600000 lignes et 6 colonnes\n",
      "\n",
      "\n",
      "<class 'pandas.core.frame.DataFrame'>\n",
      "RangeIndex: 1600000 entries, 0 to 1599999\n",
      "Data columns (total 6 columns):\n",
      " #   Column  Non-Null Count    Dtype \n",
      "---  ------  --------------    ----- \n",
      " 0   target  1600000 non-null  int64 \n",
      " 1   ids     1600000 non-null  int64 \n",
      " 2   date    1600000 non-null  object\n",
      " 3   flag    1600000 non-null  object\n",
      " 4   user    1600000 non-null  object\n",
      " 5   text    1600000 non-null  object\n",
      "dtypes: int64(2), object(4)\n",
      "memory usage: 73.2+ MB\n"
     ]
    }
   ],
   "source": [
    "print(\"Notre dataset contient {} lignes et {} colonnes\\n\\n\".format(data.shape[0], data.shape[1]))\n",
    "data.info()"
   ]
  },
  {
   "cell_type": "markdown",
   "id": "c58fcfa7",
   "metadata": {},
   "source": [
    "Ce que contiennent les colonnes :\n",
    "- **target** : la polarité du tweet (0 = négatif, 2 = neutre, 4 = positif)\n",
    "- **ids** : l'identifiant du tweet\n",
    "- **date** : la date du tweet (ex : Sat May 16 23:58:44 UTC 2009)\n",
    "- **flag** : la requête (lyx). S'il n'y en a pas, la valeur est NO_QUERY\n",
    "- **user** : l'utilisateur ayant tweeté\n",
    "- **text** : le texte du tweet"
   ]
  },
  {
   "cell_type": "markdown",
   "id": "bbcd0c55",
   "metadata": {},
   "source": [
    "## Identification de la cible"
   ]
  },
  {
   "cell_type": "markdown",
   "id": "2e61dcd4",
   "metadata": {},
   "source": [
    "\"La cible correspond à la colonne ```target```\" (*Captain Obvious, Circa 2022*)"
   ]
  },
  {
   "cell_type": "code",
   "execution_count": 26,
   "id": "cfde4751",
   "metadata": {},
   "outputs": [
    {
     "data": {
      "text/plain": [
       "array([0, 4], dtype=int64)"
      ]
     },
     "execution_count": 26,
     "metadata": {},
     "output_type": "execute_result"
    }
   ],
   "source": [
    "data[\"target\"].unique()"
   ]
  },
  {
   "cell_type": "markdown",
   "id": "d3c59cc2",
   "metadata": {},
   "source": [
    "Nous n'avons pas de tweet avec une polarité neutre. Nous nous retrouvons donc avec 2 valeurs possibles : 0 et 4.\n",
    "- 0 pour un sentiment négatif\n",
    "- 4 pour un sentiment positif\n",
    "\n",
    "Remplaçons la valeur 4 par 1, plus logique pour un label qui s'avère être binaire"
   ]
  },
  {
   "cell_type": "code",
   "execution_count": 27,
   "id": "099aa6e9",
   "metadata": {},
   "outputs": [],
   "source": [
    "data[\"target\"] = data[\"target\"].replace(4, 1)"
   ]
  },
  {
   "cell_type": "markdown",
   "id": "1f3e6cbc",
   "metadata": {},
   "source": [
    "Maintenant, regardons quelle est la répartition de ces deux labels :"
   ]
  },
  {
   "cell_type": "code",
   "execution_count": 28,
   "id": "80bdada6",
   "metadata": {},
   "outputs": [
    {
     "data": {
      "text/plain": [
       "<AxesSubplot:title={'center':'Répartition des tweets par polarité'}, ylabel='target'>"
      ]
     },
     "execution_count": 28,
     "metadata": {},
     "output_type": "execute_result"
    },
    {
     "data": {
      "image/png": "[encoded data removed]",
      "text/plain": [
       "<Figure size 648x648 with 1 Axes>"
      ]
     },
     "metadata": {},
     "output_type": "display_data"
    }
   ],
   "source": [
    "cmap = plt.get_cmap('turbo')\n",
    "colors = cmap(np.linspace(0,1,len(data[\"target\"].value_counts().tolist())))\n",
    "\n",
    "plt.figure()\n",
    "plt.set_cmap(\"Greens\")\n",
    "data[\"target\"].value_counts().plot.pie(\n",
    "    title=\"Répartition des tweets par polarité\",\n",
    "    autopct=\"%1.1f%%\",\n",
    "    figsize=(9,9),\n",
    "    colors=colors\n",
    ")"
   ]
  },
  {
   "cell_type": "markdown",
   "id": "94de79a8",
   "metadata": {},
   "source": [
    "Nous pouvons voir que les deux classes sont équitablement réparties."
   ]
  },
  {
   "cell_type": "markdown",
   "id": "375e1aab",
   "metadata": {},
   "source": [
    "## Séparation du jeu de données"
   ]
  },
  {
   "cell_type": "markdown",
   "id": "ccd1c689",
   "metadata": {},
   "source": [
    "Nous allons séparer le dataset en différents datasets :\n",
    "\n",
    "Comparison (cmp) : servira à comparer nos trois approches (API sur étagère, modèle simple, modèle avancé)\n",
    "Validation (val) : servira à sélectionner le meilleur modèle avancé et à le fine-tuner\n",
    "Train (train) : servira pour entraîner notre meilleur modèle\n",
    "Train_sample (train_smpl) : un échantillon de Train pour aller plus vite dans un premier temps\n",
    "Test (test) : servira pour évaluer le meilleur modèle avancé"
   ]
  },
  {
   "cell_type": "code",
   "execution_count": 29,
   "id": "2142e7b7",
   "metadata": {},
   "outputs": [],
   "source": [
    "CMP_SIZE = 1600 # 800 pour limiter les coûts sur Azure\n",
    "VAL_SIZE = 50000\n",
    "SMPL_SIZE = 8000\n",
    "df_cmp, data = train_test_split(\n",
    "    data,\n",
    "    stratify=data[\"target\"],\n",
    "    train_size=CMP_SIZE,\n",
    "    random_state=seed\n",
    ")\n",
    "df_val, data = train_test_split(\n",
    "    data,\n",
    "    stratify=data[\"target\"],\n",
    "    train_size=VAL_SIZE,\n",
    "    random_state=seed\n",
    ")\n",
    "df_train, df_test = train_test_split(\n",
    "    data,\n",
    "    stratify=data[\"target\"],\n",
    "    train_size=0.8,\n",
    "    random_state=seed\n",
    ")\n",
    "df_train_smpl, _ = train_test_split(\n",
    "     df_train, \n",
    "     stratify=df_train[\"target\"], \n",
    "     train_size=SMPL_SIZE, \n",
    "     random_state=seed\n",
    " )"
   ]
  },
  {
   "cell_type": "code",
   "execution_count": 30,
   "id": "b77a083a",
   "metadata": {
    "scrolled": false
   },
   "outputs": [
    {
     "data": {
      "text/html": [
       "<h1>data</h1>"
      ],
      "text/plain": [
       "<IPython.core.display.HTML object>"
      ]
     },
     "metadata": {},
     "output_type": "display_data"
    },
    {
     "name": "stdout",
     "output_type": "stream",
     "text": [
      "1548400 lignes\n"
     ]
    },
    {
     "data": {
      "text/plain": [
       "0    774200\n",
       "1    774200\n",
       "Name: target, dtype: int64"
      ]
     },
     "metadata": {},
     "output_type": "display_data"
    },
    {
     "data": {
      "image/png": "[encoded data removed]",
      "text/plain": [
       "<Figure size 648x648 with 1 Axes>"
      ]
     },
     "metadata": {},
     "output_type": "display_data"
    },
    {
     "data": {
      "text/html": [
       "<h1>cmp</h1>"
      ],
      "text/plain": [
       "<IPython.core.display.HTML object>"
      ]
     },
     "metadata": {},
     "output_type": "display_data"
    },
    {
     "name": "stdout",
     "output_type": "stream",
     "text": [
      "1600 lignes\n"
     ]
    },
    {
     "data": {
      "text/plain": [
       "1    800\n",
       "0    800\n",
       "Name: target, dtype: int64"
      ]
     },
     "metadata": {},
     "output_type": "display_data"
    },
    {
     "data": {
      "image/png": "[encoded data removed]",
      "text/plain": [
       "<Figure size 648x648 with 1 Axes>"
      ]
     },
     "metadata": {},
     "output_type": "display_data"
    },
    {
     "data": {
      "text/html": [
       "<h1>val</h1>"
      ],
      "text/plain": [
       "<IPython.core.display.HTML object>"
      ]
     },
     "metadata": {},
     "output_type": "display_data"
    },
    {
     "name": "stdout",
     "output_type": "stream",
     "text": [
      "50000 lignes\n"
     ]
    },
    {
     "data": {
      "text/plain": [
       "0    25000\n",
       "1    25000\n",
       "Name: target, dtype: int64"
      ]
     },
     "metadata": {},
     "output_type": "display_data"
    },
    {
     "data": {
      "image/png": "[encoded data removed]",
      "text/plain": [
       "<Figure size 648x648 with 1 Axes>"
      ]
     },
     "metadata": {},
     "output_type": "display_data"
    },
    {
     "data": {
      "text/html": [
       "<h1>train</h1>"
      ],
      "text/plain": [
       "<IPython.core.display.HTML object>"
      ]
     },
     "metadata": {},
     "output_type": "display_data"
    },
    {
     "name": "stdout",
     "output_type": "stream",
     "text": [
      "1238720 lignes\n"
     ]
    },
    {
     "data": {
      "text/plain": [
       "0    619360\n",
       "1    619360\n",
       "Name: target, dtype: int64"
      ]
     },
     "metadata": {},
     "output_type": "display_data"
    },
    {
     "data": {
      "image/png": "[encoded data removed]",
      "text/plain": [
       "<Figure size 648x648 with 1 Axes>"
      ]
     },
     "metadata": {},
     "output_type": "display_data"
    },
    {
     "data": {
      "text/html": [
       "<h1>train_smpl</h1>"
      ],
      "text/plain": [
       "<IPython.core.display.HTML object>"
      ]
     },
     "metadata": {},
     "output_type": "display_data"
    },
    {
     "name": "stdout",
     "output_type": "stream",
     "text": [
      "8000 lignes\n"
     ]
    },
    {
     "data": {
      "text/plain": [
       "0    4000\n",
       "1    4000\n",
       "Name: target, dtype: int64"
      ]
     },
     "metadata": {},
     "output_type": "display_data"
    },
    {
     "data": {
      "image/png": "[encoded data removed]",
      "text/plain": [
       "<Figure size 648x648 with 1 Axes>"
      ]
     },
     "metadata": {},
     "output_type": "display_data"
    },
    {
     "data": {
      "text/html": [
       "<h1>test</h1>"
      ],
      "text/plain": [
       "<IPython.core.display.HTML object>"
      ]
     },
     "metadata": {},
     "output_type": "display_data"
    },
    {
     "name": "stdout",
     "output_type": "stream",
     "text": [
      "309680 lignes\n"
     ]
    },
    {
     "data": {
      "text/plain": [
       "1    154840\n",
       "0    154840\n",
       "Name: target, dtype: int64"
      ]
     },
     "metadata": {},
     "output_type": "display_data"
    },
    {
     "data": {
      "image/png": "[encoded data removed]",
      "text/plain": [
       "<Figure size 648x648 with 1 Axes>"
      ]
     },
     "metadata": {},
     "output_type": "display_data"
    }
   ],
   "source": [
    "ls_df = {\n",
    "    \"data\" : data,\n",
    "    \"cmp\" : df_cmp,\n",
    "    \"val\" : df_val,\n",
    "    \"train\" : df_train,\n",
    "    \"train_smpl\" : df_train_smpl,\n",
    "    \"test\" : df_test\n",
    "}\n",
    "\n",
    "for dataset in ls_df:\n",
    "    display(HTML(\"<h1>{}</h1>\".format(dataset)))\n",
    "    print(\"{} lignes\".format(ls_df[dataset].shape[0]))\n",
    "    display(ls_df[dataset][\"target\"].value_counts())\n",
    "    ls_df[dataset][\"target\"].value_counts().plot.pie(\n",
    "        title=\"{} : Répartition des tweets par polarité\".format(dataset),\n",
    "        autopct=\"%1.1f%%\",\n",
    "        figsize=(9,9),\n",
    "        colors=colors\n",
    "    )\n",
    "    plt.show()"
   ]
  },
  {
   "cell_type": "markdown",
   "id": "f1ed8134",
   "metadata": {},
   "source": [
    "## Preprocessing"
   ]
  },
  {
   "cell_type": "markdown",
   "id": "b7874add",
   "metadata": {},
   "source": [
    "### Suppression des stopwords"
   ]
  },
  {
   "cell_type": "code",
   "execution_count": 31,
   "id": "5f080c81",
   "metadata": {},
   "outputs": [],
   "source": [
    "# stop = stopwords.words('english')\n",
    "# for dataset in ls_df:\n",
    "#     print(\"Supresion des stopwords dans les tweets de {}...\".format(dataset))\n",
    "#     ls_df[dataset][\"text\"] = ls_df[dataset][\"text\"].apply(\n",
    "#         lambda x: ' '.join([word for word in x.split() if word not in (stop)])\n",
    "#     )"
   ]
  },
  {
   "cell_type": "markdown",
   "id": "0b9d7cbb",
   "metadata": {},
   "source": [
    "Bien que la radicalisation et la lemmatisation aident à l'analyse des sentiments, le filtrage des mots vides n'est pas aussi simple. Le but des mots vides est de supprimer les mots inutiles, mais si vous regardez les listes de mots vides disponibles, celle de la bibliothèque NLTK par exemple, vous trouvez des mots qui peuvent potentiellement véhiculer des sentiments négatifs tels que : not, don't, hasn' t…. mais pour le problème d'analyse des sentiments, nous voulons garder les mots négatifs. Il est évident que « C'est un bon jeu » et « Ce n'est pas un bon jeu » fournissent un sentiment opposé. Par conséquent, il faut soit modifier la liste des mots vides pour exclure les mots qui véhiculent une signification négative, soit ne pas utiliser de mots vides du tout. Nous avons choisi cette dernière option"
   ]
  },
  {
   "cell_type": "markdown",
   "id": "f956bdf2",
   "metadata": {},
   "source": [
    "### tweet-preprocessor"
   ]
  },
  {
   "cell_type": "markdown",
   "id": "9b295606",
   "metadata": {},
   "source": [
    "Preprocessor est une bibliothèque spécialisée dans le prétraitement des tweets. Nous testerons le nettoyage complet des tweets (par défaut) qui enlève tous les éléments superflus, mais aussi un nettoyage plus léger où l'on paramètrera la librairie pour n'enlever que les URL et les EMOJI"
   ]
  },
  {
   "cell_type": "markdown",
   "id": "b16c232f",
   "metadata": {},
   "source": [
    "Pour plus d'informations sur la librairie tweet-preprocessing, voir [ici](https://github.com/s/preprocessor)"
   ]
  },
  {
   "cell_type": "markdown",
   "id": "cf5f3301",
   "metadata": {},
   "source": [
    "#### Nettoyage complet (par défaut)"
   ]
  },
  {
   "cell_type": "code",
   "execution_count": 32,
   "id": "8dcc6ced",
   "metadata": {
    "scrolled": false
   },
   "outputs": [
    {
     "name": "stdout",
     "output_type": "stream",
     "text": [
      "Nettoyage complet des tweets de data...\n"
     ]
    },
    {
     "data": {
      "text/plain": [
       "274139                    praying for that air france flight\n",
       "406590                                        what's up mr!?\n",
       "416876     Circus = MINDBLOWING! haha. clowns were super ...\n",
       "26445      The worst part was no management to take my co...\n",
       "1056248    If it makes you feel any better, daughter had ...\n",
       "Name: preprocessed_full, dtype: object"
      ]
     },
     "metadata": {},
     "output_type": "display_data"
    },
    {
     "name": "stdout",
     "output_type": "stream",
     "text": [
      "Préparation de X[data] et y[data]...\n",
      "X[data] Shape : (1548400,)\n",
      "y[data] Shape : (1548400,)\n",
      "\n",
      "\n",
      "\n",
      "\n",
      "Nettoyage complet des tweets de cmp...\n"
     ]
    },
    {
     "data": {
      "text/plain": [
       "1403617    Jelly sweets. So of course I had to buy Haribo...\n",
       "891773     okay that's good! oh and you missed an AMAZING...\n",
       "170240                               it's only on in glasgow\n",
       "1352691    I was gonna buy both, so thanks!! is that my &...\n",
       "1537882    it's a link to the pic you asked viewers to se...\n",
       "Name: preprocessed_full, dtype: object"
      ]
     },
     "metadata": {},
     "output_type": "display_data"
    },
    {
     "name": "stdout",
     "output_type": "stream",
     "text": [
      "Préparation de X[cmp] et y[cmp]...\n",
      "X[cmp] Shape : (1600,)\n",
      "y[cmp] Shape : (1600,)\n",
      "\n",
      "\n",
      "\n",
      "\n",
      "Nettoyage complet des tweets de val...\n"
     ]
    },
    {
     "data": {
      "text/plain": [
       "195181                     he dont have any twitter account.\n",
       "1464164    Those are some pretty strong words for a man w...\n",
       "1406181                        Love makes the world go round\n",
       "1178361    Listening to Aaron Barnhart's Debut album, Mis...\n",
       "793341                            is not having a good night\n",
       "Name: preprocessed_full, dtype: object"
      ]
     },
     "metadata": {},
     "output_type": "display_data"
    },
    {
     "name": "stdout",
     "output_type": "stream",
     "text": [
      "Préparation de X[val] et y[val]...\n",
      "X[val] Shape : (50000,)\n",
      "y[val] Shape : (50000,)\n",
      "\n",
      "\n",
      "\n",
      "\n",
      "Nettoyage complet des tweets de train...\n"
     ]
    },
    {
     "data": {
      "text/plain": [
       "169335                   Is at work ohwell need money so : D\n",
       "24035      Eww, it's raining outside It was SO pretty yes...\n",
       "916565              Getting anxious for Blink- 's new album!\n",
       "1166237    Back from the quick journey to the shops - now...\n",
       "330659     i wish i could go you guys have to come to Pue...\n",
       "Name: preprocessed_full, dtype: object"
      ]
     },
     "metadata": {},
     "output_type": "display_data"
    },
    {
     "name": "stdout",
     "output_type": "stream",
     "text": [
      "Préparation de X[train] et y[train]...\n",
      "X[train] Shape : (1238720,)\n",
      "y[train] Shape : (1238720,)\n",
      "\n",
      "\n",
      "\n",
      "\n",
      "Nettoyage complet des tweets de train_smpl...\n"
     ]
    },
    {
     "data": {
      "text/plain": [
       "155649    A Page A Day In The Month Of May is almost ove...\n",
       "761765                                      is really ill x\n",
       "445367       Man today is a rough day....and its only am...\n",
       "636176    asks, &quot;What part of last call don't peopl...\n",
       "930007    yay! LOL. i actually wanna start wearing some ...\n",
       "Name: preprocessed_full, dtype: object"
      ]
     },
     "metadata": {},
     "output_type": "display_data"
    },
    {
     "name": "stdout",
     "output_type": "stream",
     "text": [
      "Préparation de X[train_smpl] et y[train_smpl]...\n",
      "X[train_smpl] Shape : (8000,)\n",
      "y[train_smpl] Shape : (8000,)\n",
      "\n",
      "\n",
      "\n",
      "\n",
      "Nettoyage complet des tweets de test...\n"
     ]
    },
    {
     "data": {
      "text/plain": [
       "1113194           is feeling duper sleeping about now! haha.\n",
       "1470236    I have tried both but Yorkshire GOld is my fav...\n",
       "305157     I always seem to enjoy a Monday bunk better th...\n",
       "1187112    are you going to be at the Jonas Brothers conc...\n",
       "291710     oh wow - I have black, fine hair and it's stic...\n",
       "Name: preprocessed_full, dtype: object"
      ]
     },
     "metadata": {},
     "output_type": "display_data"
    },
    {
     "name": "stdout",
     "output_type": "stream",
     "text": [
      "Préparation de X[test] et y[test]...\n",
      "X[test] Shape : (309680,)\n",
      "y[test] Shape : (309680,)\n",
      "\n",
      "\n",
      "\n",
      "\n"
     ]
    }
   ],
   "source": [
    "# if (not exists(sav_path+\"X.sav\")) or (not exists(sav_path+\"y.sav\")):\n",
    "if True:\n",
    "    # Nettoyage complet (par défaut)\n",
    "    X = {}\n",
    "    y = {}\n",
    "    for dataset in ls_df:\n",
    "        print(\"Nettoyage complet des tweets de {}...\".format(dataset))\n",
    "        ls_df[dataset][\"preprocessed_full\"] = ls_df[dataset][\"text\"].apply(lambda txt : p.clean(txt))\n",
    "        display(ls_df[dataset][\"preprocessed_full\"].head())\n",
    "\n",
    "        print(\"Préparation de X[{}] et y[{}]...\".format(dataset, dataset))\n",
    "        X[dataset] = ls_df[dataset][\"preprocessed_full\"].values\n",
    "        y[dataset] = ls_df[dataset][\"target\"].values\n",
    "        print(\"X[{}] Shape : {}\".format(dataset, X[dataset].shape))\n",
    "        print(\"y[{}] Shape : {}\".format(dataset, y[dataset].shape))\n",
    "        print(\"\\n\"*3)\n",
    "else :\n",
    "    print(\"Chargement de X depuis {}...\".format(sav_path+\"X.sav\"))\n",
    "    X = pickle.load(open(sav_path+\"X.sav\", \"rb\"))\n",
    "    print(\"Chargement de y depuis {}...\".format(sav_path+\"y.sav\"))\n",
    "    y = pickle.load(open(sav_path+\"y.sav\", \"rb\"))\n",
    "    for dataset in ls_df:\n",
    "        print(\"\\n\")\n",
    "        print(\"X[{}] Shape : {}\".format(dataset, X[dataset].shape))\n",
    "        print(\"y[{}] Shape : {}\".format(dataset, y[dataset].shape))"
   ]
  },
  {
   "cell_type": "markdown",
   "id": "d859274d",
   "metadata": {},
   "source": [
    "#### Nettoyage léger"
   ]
  },
  {
   "cell_type": "code",
   "execution_count": 33,
   "id": "a399c3a4",
   "metadata": {
    "scrolled": false
   },
   "outputs": [
    {
     "name": "stdout",
     "output_type": "stream",
     "text": [
      "Nettoyage light des tweets de data...\n"
     ]
    },
    {
     "data": {
      "text/plain": [
       "274139                    praying for that air france flight\n",
       "406590                            @JacobLovie what's up mr!?\n",
       "416876     Circus = MINDBLOWING! haha. clowns were super ...\n",
       "26445      The worst part was no management to take my co...\n",
       "1056248    @MaternalSpark If it makes you feel any better...\n",
       "Name: preprocessed_light, dtype: object"
      ]
     },
     "metadata": {},
     "output_type": "display_data"
    },
    {
     "name": "stdout",
     "output_type": "stream",
     "text": [
      "Préparation de X_light[data] et y_light[data]...\n",
      "X_light[data] Shape : (1548400,)\n",
      "y_light[data] Shape : (1548400,)\n",
      "\n",
      "\n",
      "\n",
      "\n",
      "Nettoyage light des tweets de cmp...\n"
     ]
    },
    {
     "data": {
      "text/plain": [
       "1403617    @Dot12b Jelly sweets. So of course I had to bu...\n",
       "891773     @kend_ohh okay that's good! oh and you missed ...\n",
       "170240                 @laurenRIOT_x it's only on in glasgow\n",
       "1352691    I was gonna buy both, so thanks!! is that my &...\n",
       "1537882    @alexa_chung it's a link to the pic you asked ...\n",
       "Name: preprocessed_light, dtype: object"
      ]
     },
     "metadata": {},
     "output_type": "display_data"
    },
    {
     "name": "stdout",
     "output_type": "stream",
     "text": [
      "Préparation de X_light[cmp] et y_light[cmp]...\n",
      "X_light[cmp] Shape : (1600,)\n",
      "y_light[cmp] Shape : (1600,)\n",
      "\n",
      "\n",
      "\n",
      "\n",
      "Nettoyage light des tweets de val...\n"
     ]
    },
    {
     "data": {
      "text/plain": [
       "195181              @nmseq he dont have any twitter account.\n",
       "1464164    @D_Hock Those are some pretty strong words for...\n",
       "1406181                        Love makes the world go round\n",
       "1178361    Listening to Aaron Barnhart's Debut album, Mis...\n",
       "793341                            is not having a good night\n",
       "Name: preprocessed_light, dtype: object"
      ]
     },
     "metadata": {},
     "output_type": "display_data"
    },
    {
     "name": "stdout",
     "output_type": "stream",
     "text": [
      "Préparation de X_light[val] et y_light[val]...\n",
      "X_light[val] Shape : (50000,)\n",
      "y_light[val] Shape : (50000,)\n",
      "\n",
      "\n",
      "\n",
      "\n",
      "Nettoyage light des tweets de train...\n"
     ]
    },
    {
     "data": {
      "text/plain": [
       "169335                   Is at work ohwell need money so : D\n",
       "24035      Eww, it's raining outside It was SO pretty yes...\n",
       "916565           Getting anxious for Blink- 182's new album!\n",
       "1166237    Back from the quick journey to the shops - now...\n",
       "330659     @davidtdf i wish i could go you guys have to c...\n",
       "Name: preprocessed_light, dtype: object"
      ]
     },
     "metadata": {},
     "output_type": "display_data"
    },
    {
     "name": "stdout",
     "output_type": "stream",
     "text": [
      "Préparation de X_light[train] et y_light[train]...\n",
      "X_light[train] Shape : (1238720,)\n",
      "y_light[train] Shape : (1238720,)\n",
      "\n",
      "\n",
      "\n",
      "\n",
      "Nettoyage light des tweets de train_smpl...\n"
     ]
    },
    {
     "data": {
      "text/plain": [
       "155649    A Page A Day In The Month Of May is almost ove...\n",
       "761765                                      is really ill x\n",
       "445367    Man today is a rough day....and its only 1030a...\n",
       "636176    asks, &quot;What part of last call don't peopl...\n",
       "930007    @omgsage yay! LOL. i actually wanna start wear...\n",
       "Name: preprocessed_light, dtype: object"
      ]
     },
     "metadata": {},
     "output_type": "display_data"
    },
    {
     "name": "stdout",
     "output_type": "stream",
     "text": [
      "Préparation de X_light[train_smpl] et y_light[train_smpl]...\n",
      "X_light[train_smpl] Shape : (8000,)\n",
      "y_light[train_smpl] Shape : (8000,)\n",
      "\n",
      "\n",
      "\n",
      "\n",
      "Nettoyage light des tweets de test...\n"
     ]
    },
    {
     "data": {
      "text/plain": [
       "1113194           is feeling duper sleeping about now! haha.\n",
       "1470236    @colocelt I have tried both but Yorkshire GOld...\n",
       "305157     I always seem to enjoy a Monday bunk better th...\n",
       "1187112    @ddlovato are you going to be at the Jonas Bro...\n",
       "291710     @Cadistra oh wow - I have black, fine hair and...\n",
       "Name: preprocessed_light, dtype: object"
      ]
     },
     "metadata": {},
     "output_type": "display_data"
    },
    {
     "name": "stdout",
     "output_type": "stream",
     "text": [
      "Préparation de X_light[test] et y_light[test]...\n",
      "X_light[test] Shape : (309680,)\n",
      "y_light[test] Shape : (309680,)\n",
      "\n",
      "\n",
      "\n",
      "\n"
     ]
    }
   ],
   "source": [
    "# if (not exists(sav_path+\"X_light.sav\")) or (not exists(sav_path+\"y_light.sav\")):\n",
    "if True:\n",
    "    # Nettoyage léger\n",
    "    p.set_options(p.OPT.URL, p.OPT.EMOJI)\n",
    "    X_light = {}\n",
    "    y_light = {}\n",
    "    for dataset in ls_df:\n",
    "        print(\"Nettoyage light des tweets de {}...\".format(dataset))\n",
    "        ls_df[dataset][\"preprocessed_light\"] = ls_df[dataset][\"text\"].apply(lambda txt : p.clean(txt))\n",
    "        display(ls_df[dataset][\"preprocessed_light\"].head())\n",
    "\n",
    "        print(\"Préparation de X_light[{}] et y_light[{}]...\".format(dataset, dataset))\n",
    "        X_light[dataset] = ls_df[dataset][\"preprocessed_light\"].values\n",
    "        y_light[dataset] = ls_df[dataset][\"target\"].values\n",
    "        print(\"X_light[{}] Shape : {}\".format(dataset, X_light[dataset].shape))\n",
    "        print(\"y_light[{}] Shape : {}\".format(dataset, y_light[dataset].shape))\n",
    "        print(\"\\n\"*3)\n",
    "else :\n",
    "    print(\"Chargement de X_light depuis {}...\".format(sav_path+\"X_light.sav\"))\n",
    "    X_light = pickle.load(open(sav_path+\"X_light.sav\", \"rb\"))\n",
    "    print(\"Chargement de y_light depuis {}...\".format(sav_path+\"y_light.sav\"))\n",
    "    y_light = pickle.load(open(sav_path+\"y_light.sav\", \"rb\"))\n",
    "    for dataset in ls_df:\n",
    "        print(\"\\n\")\n",
    "        print(\"X_light[{}] Shape : {}\".format(dataset, X_light[dataset].shape))\n",
    "        print(\"y_light[{}] Shape : {}\".format(dataset, y_light[dataset].shape))"
   ]
  },
  {
   "cell_type": "markdown",
   "id": "7ebcd075",
   "metadata": {},
   "source": [
    "### Lemmatization"
   ]
  },
  {
   "cell_type": "code",
   "execution_count": 34,
   "id": "37416e8b",
   "metadata": {},
   "outputs": [],
   "source": [
    "def lemmatize(txt):\n",
    "    doc = tln(txt)\n",
    "    tokens = [token.lemma_ for token in doc]\n",
    "    return ' '.join(tokens)"
   ]
  },
  {
   "cell_type": "code",
   "execution_count": 35,
   "id": "45897406",
   "metadata": {},
   "outputs": [
    {
     "name": "stdout",
     "output_type": "stream",
     "text": [
      "Lemmatization des tweets de data...\n",
      "\n",
      "\n",
      "\n",
      "\n",
      "Lemmatization des tweets de cmp...\n",
      "\n",
      "\n",
      "\n",
      "\n",
      "Lemmatization des tweets de val...\n",
      "\n",
      "\n",
      "\n",
      "\n",
      "Lemmatization des tweets de train...\n",
      "\n",
      "\n",
      "\n",
      "\n",
      "Lemmatization des tweets de train_smpl...\n",
      "\n",
      "\n",
      "\n",
      "\n",
      "Lemmatization des tweets de test...\n",
      "\n",
      "\n",
      "\n",
      "\n"
     ]
    }
   ],
   "source": [
    "# if (not exists(sav_path+\"X_lem.sav\")):\n",
    "if True:\n",
    "    X_lem = {}\n",
    "    for dataset in ls_df:\n",
    "        print(\"Lemmatization des tweets de {}...\".format(dataset))\n",
    "        ls_df[dataset][\"lemmatized\"] = ls_df[dataset][\"preprocessed_full\"].apply(lambda txt : lemmatize(txt))\n",
    "        X_lem[dataset] = ls_df[dataset][\"lemmatized\"].values\n",
    "        print(\"\\n\"*3)\n",
    "else:\n",
    "    print(\"Chargement de X_lem depuis {}...\".format(sav_path+\"X_lem.sav\"))\n",
    "    X_lem = pickle.load(open(sav_path+\"X_lem.sav\", \"rb\"))"
   ]
  },
  {
   "cell_type": "markdown",
   "id": "e65729c9",
   "metadata": {},
   "source": [
    "Sauvegardons quelques variables"
   ]
  },
  {
   "cell_type": "code",
   "execution_count": 36,
   "id": "9b270a5a",
   "metadata": {},
   "outputs": [],
   "source": [
    "def save_to_file(sav_path, filename, var):\n",
    "    path_to_file = sav_path + filename\n",
    "    pickle.dump(var, open(path_to_file, \"wb\"))\n",
    "    return"
   ]
  },
  {
   "cell_type": "code",
   "execution_count": 37,
   "id": "61b20bb2",
   "metadata": {},
   "outputs": [],
   "source": [
    "save_to_file(sav_path, \"X_lem.sav\", X_lem)\n",
    "save_to_file(sav_path, \"ls_df.sav\", ls_df)\n",
    "save_to_file(sav_path, \"X.sav\", X)\n",
    "save_to_file(sav_path, \"y.sav\", y)\n",
    "save_to_file(sav_path, \"X_light.sav\", X_light)\n",
    "save_to_file(sav_path, \"y_light.sav\", y_light)"
   ]
  },
  {
   "cell_type": "code",
   "execution_count": 38,
   "id": "f857ee4e",
   "metadata": {},
   "outputs": [],
   "source": [
    "X = pickle.load(open(sav_path+\"X.sav\", \"rb\"))\n",
    "y = pickle.load(open(sav_path+\"y.sav\", \"rb\"))"
   ]
  },
  {
   "cell_type": "code",
   "execution_count": 39,
   "id": "88b526ee",
   "metadata": {},
   "outputs": [
    {
     "data": {
      "text/html": [
       "<div>\n",
       "<style scoped>\n",
       "    .dataframe tbody tr th:only-of-type {\n",
       "        vertical-align: middle;\n",
       "    }\n",
       "\n",
       "    .dataframe tbody tr th {\n",
       "        vertical-align: top;\n",
       "    }\n",
       "\n",
       "    .dataframe thead th {\n",
       "        text-align: right;\n",
       "    }\n",
       "</style>\n",
       "<table border=\"1\" class=\"dataframe\">\n",
       "  <thead>\n",
       "    <tr style=\"text-align: right;\">\n",
       "      <th></th>\n",
       "      <th>text</th>\n",
       "      <th>target</th>\n",
       "    </tr>\n",
       "  </thead>\n",
       "  <tbody>\n",
       "    <tr>\n",
       "      <th>0</th>\n",
       "      <td>Is at work ohwell need money so : D</td>\n",
       "      <td>0</td>\n",
       "    </tr>\n",
       "    <tr>\n",
       "      <th>1</th>\n",
       "      <td>Eww, it's raining outside It was SO pretty yes...</td>\n",
       "      <td>0</td>\n",
       "    </tr>\n",
       "    <tr>\n",
       "      <th>2</th>\n",
       "      <td>Getting anxious for Blink- 's new album!</td>\n",
       "      <td>1</td>\n",
       "    </tr>\n",
       "    <tr>\n",
       "      <th>3</th>\n",
       "      <td>Back from the quick journey to the shops - now...</td>\n",
       "      <td>1</td>\n",
       "    </tr>\n",
       "    <tr>\n",
       "      <th>4</th>\n",
       "      <td>i wish i could go you guys have to come to Pue...</td>\n",
       "      <td>0</td>\n",
       "    </tr>\n",
       "  </tbody>\n",
       "</table>\n",
       "</div>"
      ],
      "text/plain": [
       "                                                text target\n",
       "0                Is at work ohwell need money so : D      0\n",
       "1  Eww, it's raining outside It was SO pretty yes...      0\n",
       "2           Getting anxious for Blink- 's new album!      1\n",
       "3  Back from the quick journey to the shops - now...      1\n",
       "4  i wish i could go you guys have to come to Pue...      0"
      ]
     },
     "execution_count": 39,
     "metadata": {},
     "output_type": "execute_result"
    }
   ],
   "source": [
    "df_train = pd.DataFrame(\n",
    "    np.column_stack((X[\"train\"], y[\"train\"])), \n",
    "    columns=[\"text\", \"target\"]\n",
    ")\n",
    "df_train.head()"
   ]
  },
  {
   "cell_type": "code",
   "execution_count": 40,
   "id": "493c1b51",
   "metadata": {},
   "outputs": [
    {
     "data": {
      "text/html": [
       "<div>\n",
       "<style scoped>\n",
       "    .dataframe tbody tr th:only-of-type {\n",
       "        vertical-align: middle;\n",
       "    }\n",
       "\n",
       "    .dataframe tbody tr th {\n",
       "        vertical-align: top;\n",
       "    }\n",
       "\n",
       "    .dataframe thead th {\n",
       "        text-align: right;\n",
       "    }\n",
       "</style>\n",
       "<table border=\"1\" class=\"dataframe\">\n",
       "  <thead>\n",
       "    <tr style=\"text-align: right;\">\n",
       "      <th></th>\n",
       "      <th>text</th>\n",
       "      <th>target</th>\n",
       "    </tr>\n",
       "  </thead>\n",
       "  <tbody>\n",
       "    <tr>\n",
       "      <th>0</th>\n",
       "      <td>Is at work ohwell need money so : D</td>\n",
       "      <td>0</td>\n",
       "    </tr>\n",
       "    <tr>\n",
       "      <th>1</th>\n",
       "      <td>Eww, it's raining outside It was SO pretty yes...</td>\n",
       "      <td>0</td>\n",
       "    </tr>\n",
       "    <tr>\n",
       "      <th>2</th>\n",
       "      <td>Getting anxious for Blink- 's new album!</td>\n",
       "      <td>1</td>\n",
       "    </tr>\n",
       "    <tr>\n",
       "      <th>3</th>\n",
       "      <td>Back from the quick journey to the shops - now...</td>\n",
       "      <td>1</td>\n",
       "    </tr>\n",
       "    <tr>\n",
       "      <th>4</th>\n",
       "      <td>i wish i could go you guys have to come to Pue...</td>\n",
       "      <td>0</td>\n",
       "    </tr>\n",
       "  </tbody>\n",
       "</table>\n",
       "</div>"
      ],
      "text/plain": [
       "                                                text target\n",
       "0                Is at work ohwell need money so : D      0\n",
       "1  Eww, it's raining outside It was SO pretty yes...      0\n",
       "2           Getting anxious for Blink- 's new album!      1\n",
       "3  Back from the quick journey to the shops - now...      1\n",
       "4  i wish i could go you guys have to come to Pue...      0"
      ]
     },
     "execution_count": 40,
     "metadata": {},
     "output_type": "execute_result"
    }
   ],
   "source": [
    "df_train_smpl = pd.DataFrame(\n",
    "    np.column_stack((X[\"train_smpl\"], y[\"train_smpl\"])), \n",
    "    columns=[\"text\", \"target\"]\n",
    ")\n",
    "df_train.head()"
   ]
  },
  {
   "cell_type": "code",
   "execution_count": 41,
   "id": "acbf7daa",
   "metadata": {},
   "outputs": [
    {
     "data": {
      "text/html": [
       "<div>\n",
       "<style scoped>\n",
       "    .dataframe tbody tr th:only-of-type {\n",
       "        vertical-align: middle;\n",
       "    }\n",
       "\n",
       "    .dataframe tbody tr th {\n",
       "        vertical-align: top;\n",
       "    }\n",
       "\n",
       "    .dataframe thead th {\n",
       "        text-align: right;\n",
       "    }\n",
       "</style>\n",
       "<table border=\"1\" class=\"dataframe\">\n",
       "  <thead>\n",
       "    <tr style=\"text-align: right;\">\n",
       "      <th></th>\n",
       "      <th>text</th>\n",
       "      <th>target</th>\n",
       "    </tr>\n",
       "  </thead>\n",
       "  <tbody>\n",
       "    <tr>\n",
       "      <th>0</th>\n",
       "      <td>Is at work ohwell need money so : D</td>\n",
       "      <td>0</td>\n",
       "    </tr>\n",
       "    <tr>\n",
       "      <th>1</th>\n",
       "      <td>Eww, it's raining outside It was SO pretty yes...</td>\n",
       "      <td>0</td>\n",
       "    </tr>\n",
       "    <tr>\n",
       "      <th>2</th>\n",
       "      <td>Getting anxious for Blink- 's new album!</td>\n",
       "      <td>1</td>\n",
       "    </tr>\n",
       "    <tr>\n",
       "      <th>3</th>\n",
       "      <td>Back from the quick journey to the shops - now...</td>\n",
       "      <td>1</td>\n",
       "    </tr>\n",
       "    <tr>\n",
       "      <th>4</th>\n",
       "      <td>i wish i could go you guys have to come to Pue...</td>\n",
       "      <td>0</td>\n",
       "    </tr>\n",
       "  </tbody>\n",
       "</table>\n",
       "</div>"
      ],
      "text/plain": [
       "                                                text target\n",
       "0                Is at work ohwell need money so : D      0\n",
       "1  Eww, it's raining outside It was SO pretty yes...      0\n",
       "2           Getting anxious for Blink- 's new album!      1\n",
       "3  Back from the quick journey to the shops - now...      1\n",
       "4  i wish i could go you guys have to come to Pue...      0"
      ]
     },
     "execution_count": 41,
     "metadata": {},
     "output_type": "execute_result"
    }
   ],
   "source": [
    "df_cmp = pd.DataFrame(\n",
    "    np.column_stack((X[\"cmp\"], y[\"cmp\"])), \n",
    "    columns=[\"text\", \"target\"]\n",
    ")\n",
    "df_train.head()"
   ]
  },
  {
   "cell_type": "code",
   "execution_count": 43,
   "id": "1dbfa698",
   "metadata": {},
   "outputs": [],
   "source": [
    "df_test = pd.DataFrame(\n",
    "    np.column_stack((X[\"test\"], y[\"test\"])), \n",
    "    columns=[\"text\", \"target\"]\n",
    ")"
   ]
  },
  {
   "cell_type": "code",
   "execution_count": 44,
   "id": "0aaa2fea",
   "metadata": {},
   "outputs": [],
   "source": [
    "df_train.to_csv(sav_path+\"train.csv\")\n",
    "df_train_smpl.to_csv(sav_path+\"train_smpl.csv\")\n",
    "df_cmp.to_csv(sav_path+\"comparison.csv\")\n",
    "df_test.to_csv(sav_path+\"test.csv\")"
   ]
  },
  {
   "cell_type": "code",
   "execution_count": null,
   "id": "84496e33",
   "metadata": {},
   "outputs": [],
   "source": []
  }
 ],
 "metadata": {
  "kernelspec": {
   "display_name": "oc_p07",
   "language": "python",
   "name": "oc_p07"
  },
  "language_info": {
   "codemirror_mode": {
    "name": "ipython",
    "version": 3
   },
   "file_extension": ".py",
   "mimetype": "text/x-python",
   "name": "python",
   "nbconvert_exporter": "python",
   "pygments_lexer": "ipython3",
   "version": "3.9.12"
  }
 },
 "nbformat": 4,
 "nbformat_minor": 5
}
