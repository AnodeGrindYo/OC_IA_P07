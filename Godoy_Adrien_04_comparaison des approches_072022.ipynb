{
 "cells": [
  {
   "cell_type": "markdown",
   "id": "938f56b6",
   "metadata": {},
   "source": [
    "# Comparaison des trois approches"
   ]
  },
  {
   "cell_type": "markdown",
   "id": "a48e9ab8",
   "metadata": {},
   "source": [
    "## Librairies"
   ]
  },
  {
   "cell_type": "code",
   "execution_count": 21,
   "id": "20f3b516",
   "metadata": {},
   "outputs": [],
   "source": [
    "import pandas as pd\n",
    "import numpy as np\n",
    "from matplotlib import pyplot as plt\n",
    "import os\n",
    "import pickle\n",
    "from sklearn.metrics import classification_report\n",
    "from sklearn.metrics import confusion_matrix\n",
    "from sklearn.metrics import ConfusionMatrixDisplay\n",
    "from sklearn.metrics import accuracy_score\n",
    "from azure.ai.textanalytics import TextAnalyticsClient\n",
    "from azure.core.credentials import AzureKeyCredential\n",
    "from azureml.core import Workspace\n",
    "import warnings\n",
    "import requests\n",
    "import json\n",
    "import tensorflow as tf\n",
    "from transformers import TFBertForSequenceClassification\n",
    "from transformers import BertTokenizer"
   ]
  },
  {
   "cell_type": "markdown",
   "id": "41c0feef",
   "metadata": {},
   "source": [
    "## Settings"
   ]
  },
  {
   "cell_type": "code",
   "execution_count": 2,
   "id": "e1bb90ff",
   "metadata": {},
   "outputs": [],
   "source": [
    "warnings.filterwarnings('ignore')"
   ]
  },
  {
   "cell_type": "code",
   "execution_count": 3,
   "id": "80b20959",
   "metadata": {},
   "outputs": [],
   "source": [
    "key = os.getenv('KEY')\n",
    "endpoint = os.environ['ENDPOINT']\n",
    "sav_path = \"./sav/\""
   ]
  },
  {
   "cell_type": "markdown",
   "id": "3a96f6ae",
   "metadata": {},
   "source": [
    "## Chargement des données"
   ]
  },
  {
   "cell_type": "code",
   "execution_count": 4,
   "id": "7f03b23b",
   "metadata": {},
   "outputs": [
    {
     "name": "stdout",
     "output_type": "stream",
     "text": [
      "X_cmp shape : (1600,)\n",
      "y_cmp shape : (1600,)\n"
     ]
    }
   ],
   "source": [
    "X = pickle.load(open(sav_path+\"X.sav\", \"rb\"))\n",
    "y = pickle.load(open(sav_path+\"y.sav\", \"rb\"))\n",
    "X_cmp = X[\"cmp\"]\n",
    "y_cmp = y[\"cmp\"]\n",
    "del X\n",
    "del y\n",
    "print(\"X_cmp shape : {}\".format(X_cmp.shape))\n",
    "print(\"y_cmp shape : {}\".format(y_cmp.shape))"
   ]
  },
  {
   "cell_type": "markdown",
   "id": "b51256cd",
   "metadata": {},
   "source": [
    "## API Azure Cognitive Service"
   ]
  },
  {
   "cell_type": "markdown",
   "id": "348a63cf",
   "metadata": {},
   "source": [
    "### authentification API "
   ]
  },
  {
   "cell_type": "code",
   "execution_count": 5,
   "id": "56aaefff",
   "metadata": {},
   "outputs": [],
   "source": [
    "def authenticate_client():\n",
    "    ta_credential = AzureKeyCredential(key)\n",
    "    text_analytics_client = TextAnalyticsClient(\n",
    "            endpoint=endpoint,\n",
    "            credential=ta_credential)\n",
    "    return text_analytics_client"
   ]
  },
  {
   "cell_type": "code",
   "execution_count": 6,
   "id": "e3970009",
   "metadata": {},
   "outputs": [],
   "source": [
    "client = authenticate_client()"
   ]
  },
  {
   "cell_type": "markdown",
   "id": "2a316cca",
   "metadata": {},
   "source": [
    "### Requête"
   ]
  },
  {
   "cell_type": "code",
   "execution_count": 7,
   "id": "c6f3e0f2",
   "metadata": {},
   "outputs": [],
   "source": [
    "def sentiment_analysis(client, text):\n",
    "    response = client.analyze_sentiment(documents=text)[0]\n",
    "    sentiment = 0 if response.confidence_scores.negative > 0.5 else 1\n",
    "    return sentiment"
   ]
  },
  {
   "cell_type": "markdown",
   "id": "9875c0ea",
   "metadata": {},
   "source": [
    "### Exemple de sentiment positif"
   ]
  },
  {
   "cell_type": "code",
   "execution_count": 8,
   "id": "6b81d4f4",
   "metadata": {
    "scrolled": true
   },
   "outputs": [
    {
     "data": {
      "text/plain": [
       "1"
      ]
     },
     "execution_count": 8,
     "metadata": {},
     "output_type": "execute_result"
    }
   ],
   "source": [
    "sentiment_analysis(client, [\"This is so great !\"])"
   ]
  },
  {
   "cell_type": "markdown",
   "id": "ed66b311",
   "metadata": {},
   "source": [
    "### Exemple de sentiment négatif"
   ]
  },
  {
   "cell_type": "code",
   "execution_count": 9,
   "id": "74a8ac81",
   "metadata": {},
   "outputs": [
    {
     "data": {
      "text/plain": [
       "0"
      ]
     },
     "execution_count": 9,
     "metadata": {},
     "output_type": "execute_result"
    }
   ],
   "source": [
    "sentiment_analysis(client, [\"this is bad\"])"
   ]
  },
  {
   "cell_type": "code",
   "execution_count": 10,
   "id": "5a334577",
   "metadata": {},
   "outputs": [],
   "source": [
    "ls_empty = np.where(X_cmp == \"\")\n",
    "X_cmp = np.delete(X_cmp, ls_empty)\n",
    "y_cmp = np.delete(y_cmp, ls_empty)"
   ]
  },
  {
   "cell_type": "code",
   "execution_count": 11,
   "id": "609b38d7",
   "metadata": {},
   "outputs": [],
   "source": [
    "y_pred_API = []\n",
    "for tweet in X_cmp:\n",
    "    result = sentiment_analysis(client, [tweet])\n",
    "    y_pred_API.append(result)"
   ]
  },
  {
   "cell_type": "markdown",
   "id": "1722314d",
   "metadata": {},
   "source": [
    "### Evaluation sur le jeu de comparaison"
   ]
  },
  {
   "cell_type": "markdown",
   "id": "3185ca93",
   "metadata": {},
   "source": [
    "#### Matrice de confusion"
   ]
  },
  {
   "cell_type": "code",
   "execution_count": 86,
   "id": "f47481de",
   "metadata": {},
   "outputs": [
    {
     "data": {
      "text/plain": [
       "<sklearn.metrics._plot.confusion_matrix.ConfusionMatrixDisplay at 0x1e582a911c0>"
      ]
     },
     "execution_count": 86,
     "metadata": {},
     "output_type": "execute_result"
    },
    {
     "data": {
      "image/png": "[encoded data removed]",
      "text/plain": [
       "<Figure size 432x288 with 2 Axes>"
      ]
     },
     "metadata": {
      "needs_background": "light"
     },
     "output_type": "display_data"
    }
   ],
   "source": [
    "cm = confusion_matrix(y_cmp, y_pred_API)\n",
    "cmd = ConfusionMatrixDisplay(cm)\n",
    "cmd.plot()"
   ]
  },
  {
   "cell_type": "code",
   "execution_count": 88,
   "id": "c48e9e0e",
   "metadata": {},
   "outputs": [
    {
     "name": "stdout",
     "output_type": "stream",
     "text": [
      "              precision    recall  f1-score   support\n",
      "\n",
      "           0       0.82      0.57      0.67       795\n",
      "           1       0.67      0.87      0.76       799\n",
      "\n",
      "    accuracy                           0.72      1594\n",
      "   macro avg       0.74      0.72      0.72      1594\n",
      "weighted avg       0.74      0.72      0.72      1594\n",
      "\n"
     ]
    }
   ],
   "source": [
    "print(classification_report(y_cmp, y_pred_API))"
   ]
  },
  {
   "cell_type": "markdown",
   "id": "54db6415",
   "metadata": {},
   "source": [
    "#### Accuracy score"
   ]
  },
  {
   "cell_type": "code",
   "execution_count": 12,
   "id": "ca084c04",
   "metadata": {},
   "outputs": [
    {
     "name": "stdout",
     "output_type": "stream",
     "text": [
      "Accuracy :  0.7233375156838143\n"
     ]
    }
   ],
   "source": [
    "accuracy_api = accuracy_score(y_cmp, y_pred_API)\n",
    "print(\"Accuracy : \", accuracy_api)"
   ]
  },
  {
   "cell_type": "markdown",
   "id": "828bc381",
   "metadata": {},
   "source": [
    "## Modèle sur mesure simple"
   ]
  },
  {
   "cell_type": "markdown",
   "id": "aeef6939",
   "metadata": {},
   "source": [
    "### Designer"
   ]
  },
  {
   "cell_type": "markdown",
   "id": "00e5e50c",
   "metadata": {},
   "source": [
    "![](https://i.ibb.co/nbZ1PrK/designer.png)"
   ]
  },
  {
   "cell_type": "markdown",
   "id": "4c4286dd",
   "metadata": {},
   "source": [
    "### Evaluation sur le jeu de comparaison"
   ]
  },
  {
   "cell_type": "markdown",
   "id": "4b0e45b7",
   "metadata": {},
   "source": [
    "![](https://i.ibb.co/xDb2d02/designer-06.png)"
   ]
  },
  {
   "cell_type": "code",
   "execution_count": 14,
   "id": "e86100b2",
   "metadata": {},
   "outputs": [],
   "source": [
    "accuracy_azure_designer = 0.631"
   ]
  },
  {
   "cell_type": "markdown",
   "id": "1d2dc030",
   "metadata": {},
   "source": [
    "## Modèle sur mesure avancé"
   ]
  },
  {
   "cell_type": "code",
   "execution_count": 23,
   "id": "c47c6099",
   "metadata": {},
   "outputs": [],
   "source": [
    "def load_saved_model(checkpoint_path):\n",
    "    model = TFBertForSequenceClassification.from_pretrained(\n",
    "        'bert-base-uncased',\n",
    "        num_labels=2\n",
    "    )\n",
    "    loss = tf.keras.losses.SparseCategoricalCrossentropy(\n",
    "        from_logits=True\n",
    "    )\n",
    "    metric = tf.keras.metrics.SparseCategoricalAccuracy(\n",
    "        'accuracy'\n",
    "    )\n",
    "    optimizer = tf.keras.optimizers.Adam(\n",
    "        learning_rate=2e-5,\n",
    "        epsilon=1e-08\n",
    "    )\n",
    "    model.compile(\n",
    "        loss=loss,\n",
    "        optimizer=optimizer,\n",
    "        metrics=[metric]\n",
    "    )\n",
    "    model.load_weights(checkpoint_path)\n",
    "    return model\n",
    "\n",
    "MAX_LEN = 128\n",
    "def tokenize(tweets):\n",
    "    input_ids=[]\n",
    "    attention_masks=[]\n",
    "    for tweet in tweets:\n",
    "        bert_inp=bert_tokenizer.encode_plus(\n",
    "            tweet,\n",
    "            add_special_tokens=True,\n",
    "            max_length=MAX_LEN,\n",
    "            pad_to_max_length=True,\n",
    "            return_attention_mask=True\n",
    "        )\n",
    "        input_ids.append(bert_inp[\"input_ids\"])\n",
    "        attention_masks.append(bert_inp[\"attention_mask\"])\n",
    "    inputs_ids = np.array(input_ids)\n",
    "    attention_masks = np.array(attention_masks)\n",
    "    return input_ids, attention_masks"
   ]
  },
  {
   "cell_type": "code",
   "execution_count": 28,
   "id": "d27247dd",
   "metadata": {},
   "outputs": [
    {
     "name": "stderr",
     "output_type": "stream",
     "text": [
      "All model checkpoint layers were used when initializing TFBertForSequenceClassification.\n",
      "\n",
      "Some layers of TFBertForSequenceClassification were not initialized from the model checkpoint at bert-base-uncased and are newly initialized: ['classifier']\n",
      "You should probably TRAIN this model on a down-stream task to be able to use it for predictions and inference.\n"
     ]
    },
    {
     "name": "stdout",
     "output_type": "stream",
     "text": [
      "WARNING:tensorflow:Detecting that an object or model or tf.train.Checkpoint is being deleted with unrestored values. See the following logs for the specific values in question. To silence these warnings, use `status.expect_partial()`. See https://www.tensorflow.org/api_docs/python/tf/train/Checkpoint#restorefor details about the status object returned by the restore function.\n",
      "WARNING:tensorflow:Value in checkpoint could not be found in the restored object: (root).optimizer.iter\n",
      "WARNING:tensorflow:Value in checkpoint could not be found in the restored object: (root).optimizer.beta_1\n",
      "WARNING:tensorflow:Value in checkpoint could not be found in the restored object: (root).optimizer.beta_2\n",
      "WARNING:tensorflow:Value in checkpoint could not be found in the restored object: (root).optimizer.decay\n",
      "WARNING:tensorflow:Value in checkpoint could not be found in the restored object: (root).optimizer.learning_rate\n"
     ]
    }
   ],
   "source": [
    "loaded_model = load_saved_model(sav_path+'BERT_WEIGHTS/bert_model_weights')\n",
    "bert_tokenizer = BertTokenizer.from_pretrained('bert-base-uncased')"
   ]
  },
  {
   "cell_type": "code",
   "execution_count": 25,
   "id": "0b529084",
   "metadata": {},
   "outputs": [],
   "source": [
    "X = pickle.load(open(sav_path+\"X.sav\", \"rb\"))\n",
    "y = pickle.load(open(sav_path+\"y.sav\", \"rb\"))"
   ]
  },
  {
   "cell_type": "code",
   "execution_count": 26,
   "id": "f3cc93ff",
   "metadata": {},
   "outputs": [],
   "source": [
    "for dataset in X:\n",
    "    ls_empty = np.where(X[dataset] == \"\")\n",
    "    X[dataset] = np.delete(X[dataset], ls_empty)\n",
    "    y[dataset] = np.delete(y[dataset], ls_empty)"
   ]
  },
  {
   "cell_type": "code",
   "execution_count": 29,
   "id": "1849ae59",
   "metadata": {},
   "outputs": [
    {
     "name": "stderr",
     "output_type": "stream",
     "text": [
      "Truncation was not explicitly activated but `max_length` is provided a specific value, please use `truncation=True` to explicitly truncate examples to max length. Defaulting to 'longest_first' truncation strategy. If you encode pairs of sequences (GLUE-style) with the tokenizer you can select this strategy more precisely by providing a specific strategy to `truncation`.\n"
     ]
    }
   ],
   "source": [
    "input_ids = []\n",
    "attention_masks = []\n",
    "\n",
    "input_ids, attention_masks = tokenize(\n",
    "    X[\"cmp\"]\n",
    ")"
   ]
  },
  {
   "cell_type": "code",
   "execution_count": 30,
   "id": "51604de8",
   "metadata": {},
   "outputs": [
    {
     "name": "stdout",
     "output_type": "stream",
     "text": [
      "50/50 [==============================] - 119s 2s/step\n"
     ]
    }
   ],
   "source": [
    "result_loaded_model = loaded_model.predict(\n",
    "    [\n",
    "        np.array(input_ids),\n",
    "        np.array(attention_masks)\n",
    "    ]\n",
    ")"
   ]
  },
  {
   "cell_type": "code",
   "execution_count": 31,
   "id": "f2fa58b7",
   "metadata": {},
   "outputs": [],
   "source": [
    "y_pred_loaded_model = np.argmax(result_loaded_model[\"logits\"], axis=1)"
   ]
  },
  {
   "cell_type": "code",
   "execution_count": 32,
   "id": "b0c2b658",
   "metadata": {},
   "outputs": [
    {
     "name": "stdout",
     "output_type": "stream",
     "text": [
      "Accuracy :  0.7998745294855709\n"
     ]
    }
   ],
   "source": [
    "accuracy_bert = accuracy_score(y[\"cmp\"], y_pred_loaded_model)\n",
    "print(\"Accuracy : \", accuracy_bert)"
   ]
  },
  {
   "cell_type": "markdown",
   "id": "a9296c7c",
   "metadata": {},
   "source": [
    "## Comparaison des 3 modèles"
   ]
  },
  {
   "cell_type": "code",
   "execution_count": 33,
   "id": "a19e8068",
   "metadata": {},
   "outputs": [],
   "source": [
    "app = [\n",
    "    'API_sur_étagère', \n",
    "    'Modèle_sur_mesure_simple', \n",
    "    'Modèle_sur_mesure_avancé'\n",
    "]\n",
    "accuracy = [\n",
    "    accuracy_api, \n",
    "    accuracy_azure_designer, \n",
    "    accuracy_bert\n",
    "]\n",
    "x=[0,1,2]"
   ]
  },
  {
   "cell_type": "code",
   "execution_count": 7,
   "id": "d8ff9801",
   "metadata": {},
   "outputs": [
    {
     "data": {
      "image/png": "[encoded data removed]",
      "text/plain": [
       "<Figure size 720x432 with 1 Axes>"
      ]
     },
     "metadata": {
      "needs_background": "light"
     },
     "output_type": "display_data"
    }
   ],
   "source": [
    "def addlabels(x,y,decimals):\n",
    "    for i in range(len(x)):\n",
    "        plt.text(i,y[i],round(y[i], decimals))\n",
    "\n",
    "plt.figure(figsize=(10,6))\n",
    "plt.bar(\n",
    "    x, \n",
    "    accuracy, \n",
    "    0.6, \n",
    "    color='b'\n",
    ")\n",
    "plt.title(\n",
    "    \"Scores d'Accuracy\", \n",
    "    fontsize=20\n",
    ")\n",
    "plt.xticks(\n",
    "    range(len(app)), \n",
    "    app, \n",
    "    size='xx-large', \n",
    "    rotation=45\n",
    ")\n",
    "\n",
    "addlabels(x, accuracy, 4)\n",
    "\n",
    "plt.ylabel(\n",
    "    \"Accuracy\", \n",
    "    size='xx-large'\n",
    ")\n",
    "plt.yticks(size='xx-large')\n",
    "plt.ylim(0.5, 0.9)\n",
    "\n",
    "plt.show()"
   ]
  },
  {
   "cell_type": "code",
   "execution_count": null,
   "id": "81370f72",
   "metadata": {},
   "outputs": [],
   "source": []
  }
 ],
 "metadata": {
  "kernelspec": {
   "display_name": "oc_p07",
   "language": "python",
   "name": "oc_p07"
  },
  "language_info": {
   "codemirror_mode": {
    "name": "ipython",
    "version": 3
   },
   "file_extension": ".py",
   "mimetype": "text/x-python",
   "name": "python",
   "nbconvert_exporter": "python",
   "pygments_lexer": "ipython3",
   "version": "3.9.12"
  }
 },
 "nbformat": 4,
 "nbformat_minor": 5
}
